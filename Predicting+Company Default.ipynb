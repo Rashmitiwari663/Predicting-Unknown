{
 "cells": [
  {
   "cell_type": "code",
   "execution_count": 1,
   "id": "c03b3586",
   "metadata": {},
   "outputs": [],
   "source": [
    "#importing the libraries\n",
    "import pandas  as pd \n",
    "import numpy as np\n",
    "import matplotlib.pyplot as plt\n",
    "import seaborn as sns"
   ]
  },
  {
   "cell_type": "code",
   "execution_count": 32,
   "id": "84e347d0",
   "metadata": {},
   "outputs": [],
   "source": [
    "#reading the data\n",
    "df= pd.read_csv(\"CompanyDefault.csv\")"
   ]
  },
  {
   "cell_type": "code",
   "execution_count": 3,
   "id": "e1e1714f",
   "metadata": {},
   "outputs": [
    {
     "data": {
      "text/html": [
       "<div>\n",
       "<style scoped>\n",
       "    .dataframe tbody tr th:only-of-type {\n",
       "        vertical-align: middle;\n",
       "    }\n",
       "\n",
       "    .dataframe tbody tr th {\n",
       "        vertical-align: top;\n",
       "    }\n",
       "\n",
       "    .dataframe thead th {\n",
       "        text-align: right;\n",
       "    }\n",
       "</style>\n",
       "<table border=\"1\" class=\"dataframe\">\n",
       "  <thead>\n",
       "    <tr style=\"text-align: right;\">\n",
       "      <th></th>\n",
       "      <th>Num</th>\n",
       "      <th>default</th>\n",
       "      <th>Total_assets</th>\n",
       "      <th>Total_income</th>\n",
       "      <th>PAT_as_%_of_total_income</th>\n",
       "      <th>PBDITA_as_%_of_total_income</th>\n",
       "      <th>PBT_as_%_of_total_income</th>\n",
       "      <th>Cash_profit_as_%_of_total_income</th>\n",
       "      <th>Current_ratio</th>\n",
       "      <th>Debt_to_equity_ratio</th>\n",
       "    </tr>\n",
       "  </thead>\n",
       "  <tbody>\n",
       "    <tr>\n",
       "      <th>0</th>\n",
       "      <td>1</td>\n",
       "      <td>1</td>\n",
       "      <td>210.5</td>\n",
       "      <td>125.3</td>\n",
       "      <td>-25.059856</td>\n",
       "      <td>-10.454908</td>\n",
       "      <td>-25.059856</td>\n",
       "      <td>-19.792498</td>\n",
       "      <td>0.86</td>\n",
       "      <td>2.99</td>\n",
       "    </tr>\n",
       "    <tr>\n",
       "      <th>1</th>\n",
       "      <td>2</td>\n",
       "      <td>1</td>\n",
       "      <td>674.4</td>\n",
       "      <td>939.6</td>\n",
       "      <td>-5.487016</td>\n",
       "      <td>-0.723712</td>\n",
       "      <td>-5.487016</td>\n",
       "      <td>-4.252448</td>\n",
       "      <td>0.87</td>\n",
       "      <td>48.74</td>\n",
       "    </tr>\n",
       "    <tr>\n",
       "      <th>2</th>\n",
       "      <td>3</td>\n",
       "      <td>1</td>\n",
       "      <td>288.3</td>\n",
       "      <td>1.2</td>\n",
       "      <td>-2233.333333</td>\n",
       "      <td>-1785.083333</td>\n",
       "      <td>-2175.000000</td>\n",
       "      <td>-2100.000000</td>\n",
       "      <td>1.40</td>\n",
       "      <td>0.28</td>\n",
       "    </tr>\n",
       "    <tr>\n",
       "      <th>3</th>\n",
       "      <td>4</td>\n",
       "      <td>1</td>\n",
       "      <td>32.2</td>\n",
       "      <td>30.3</td>\n",
       "      <td>-15.511551</td>\n",
       "      <td>-6.930693</td>\n",
       "      <td>-15.181518</td>\n",
       "      <td>-12.541254</td>\n",
       "      <td>0.44</td>\n",
       "      <td>24.50</td>\n",
       "    </tr>\n",
       "    <tr>\n",
       "      <th>4</th>\n",
       "      <td>5</td>\n",
       "      <td>1</td>\n",
       "      <td>380.9</td>\n",
       "      <td>24.6</td>\n",
       "      <td>-208.943089</td>\n",
       "      <td>-1.626016</td>\n",
       "      <td>-208.536585</td>\n",
       "      <td>-142.276423</td>\n",
       "      <td>1.17</td>\n",
       "      <td>10.37</td>\n",
       "    </tr>\n",
       "  </tbody>\n",
       "</table>\n",
       "</div>"
      ],
      "text/plain": [
       "   Num  default  Total_assets  Total_income  PAT_as_%_of_total_income  \\\n",
       "0    1        1         210.5         125.3                -25.059856   \n",
       "1    2        1         674.4         939.6                 -5.487016   \n",
       "2    3        1         288.3           1.2              -2233.333333   \n",
       "3    4        1          32.2          30.3                -15.511551   \n",
       "4    5        1         380.9          24.6               -208.943089   \n",
       "\n",
       "   PBDITA_as_%_of_total_income  PBT_as_%_of_total_income  \\\n",
       "0                   -10.454908                -25.059856   \n",
       "1                    -0.723712                 -5.487016   \n",
       "2                 -1785.083333              -2175.000000   \n",
       "3                    -6.930693                -15.181518   \n",
       "4                    -1.626016               -208.536585   \n",
       "\n",
       "   Cash_profit_as_%_of_total_income  Current_ratio  Debt_to_equity_ratio  \n",
       "0                        -19.792498           0.86                  2.99  \n",
       "1                         -4.252448           0.87                 48.74  \n",
       "2                      -2100.000000           1.40                  0.28  \n",
       "3                        -12.541254           0.44                 24.50  \n",
       "4                       -142.276423           1.17                 10.37  "
      ]
     },
     "execution_count": 3,
     "metadata": {},
     "output_type": "execute_result"
    }
   ],
   "source": [
    "df.head()"
   ]
  },
  {
   "cell_type": "code",
   "execution_count": 4,
   "id": "8b8be4fa",
   "metadata": {},
   "outputs": [
    {
     "data": {
      "text/html": [
       "<div>\n",
       "<style scoped>\n",
       "    .dataframe tbody tr th:only-of-type {\n",
       "        vertical-align: middle;\n",
       "    }\n",
       "\n",
       "    .dataframe tbody tr th {\n",
       "        vertical-align: top;\n",
       "    }\n",
       "\n",
       "    .dataframe thead th {\n",
       "        text-align: right;\n",
       "    }\n",
       "</style>\n",
       "<table border=\"1\" class=\"dataframe\">\n",
       "  <thead>\n",
       "    <tr style=\"text-align: right;\">\n",
       "      <th></th>\n",
       "      <th>Num</th>\n",
       "      <th>default</th>\n",
       "      <th>Total_assets</th>\n",
       "      <th>Total_income</th>\n",
       "      <th>PAT_as_%_of_total_income</th>\n",
       "      <th>PBDITA_as_%_of_total_income</th>\n",
       "      <th>PBT_as_%_of_total_income</th>\n",
       "      <th>Cash_profit_as_%_of_total_income</th>\n",
       "      <th>Current_ratio</th>\n",
       "      <th>Debt_to_equity_ratio</th>\n",
       "    </tr>\n",
       "  </thead>\n",
       "  <tbody>\n",
       "    <tr>\n",
       "      <th>1379</th>\n",
       "      <td>2848</td>\n",
       "      <td>0</td>\n",
       "      <td>1117.600</td>\n",
       "      <td>1385.700</td>\n",
       "      <td>4.272209</td>\n",
       "      <td>12.463015</td>\n",
       "      <td>4.936133</td>\n",
       "      <td>9.013495</td>\n",
       "      <td>1.35</td>\n",
       "      <td>0.40</td>\n",
       "    </tr>\n",
       "    <tr>\n",
       "      <th>1380</th>\n",
       "      <td>2849</td>\n",
       "      <td>0</td>\n",
       "      <td>994.900</td>\n",
       "      <td>928.800</td>\n",
       "      <td>7.870370</td>\n",
       "      <td>15.385444</td>\n",
       "      <td>10.658915</td>\n",
       "      <td>12.489233</td>\n",
       "      <td>1.07</td>\n",
       "      <td>0.06</td>\n",
       "    </tr>\n",
       "    <tr>\n",
       "      <th>1381</th>\n",
       "      <td>2850</td>\n",
       "      <td>0</td>\n",
       "      <td>1028.100</td>\n",
       "      <td>1332.000</td>\n",
       "      <td>13.634760</td>\n",
       "      <td>23.918919</td>\n",
       "      <td>18.160586</td>\n",
       "      <td>17.987988</td>\n",
       "      <td>2.21</td>\n",
       "      <td>0.11</td>\n",
       "    </tr>\n",
       "    <tr>\n",
       "      <th>1382</th>\n",
       "      <td>2851</td>\n",
       "      <td>0</td>\n",
       "      <td>2059.000</td>\n",
       "      <td>3449.826</td>\n",
       "      <td>5.264468</td>\n",
       "      <td>10.380668</td>\n",
       "      <td>7.011919</td>\n",
       "      <td>7.216219</td>\n",
       "      <td>0.60</td>\n",
       "      <td>0.12</td>\n",
       "    </tr>\n",
       "    <tr>\n",
       "      <th>1383</th>\n",
       "      <td>3472</td>\n",
       "      <td>0</td>\n",
       "      <td>2275.971</td>\n",
       "      <td>3449.826</td>\n",
       "      <td>5.264468</td>\n",
       "      <td>10.380668</td>\n",
       "      <td>7.011919</td>\n",
       "      <td>7.216219</td>\n",
       "      <td>2.83</td>\n",
       "      <td>0.08</td>\n",
       "    </tr>\n",
       "  </tbody>\n",
       "</table>\n",
       "</div>"
      ],
      "text/plain": [
       "       Num  default  Total_assets  Total_income  PAT_as_%_of_total_income  \\\n",
       "1379  2848        0      1117.600      1385.700                  4.272209   \n",
       "1380  2849        0       994.900       928.800                  7.870370   \n",
       "1381  2850        0      1028.100      1332.000                 13.634760   \n",
       "1382  2851        0      2059.000      3449.826                  5.264468   \n",
       "1383  3472        0      2275.971      3449.826                  5.264468   \n",
       "\n",
       "      PBDITA_as_%_of_total_income  PBT_as_%_of_total_income  \\\n",
       "1379                    12.463015                  4.936133   \n",
       "1380                    15.385444                 10.658915   \n",
       "1381                    23.918919                 18.160586   \n",
       "1382                    10.380668                  7.011919   \n",
       "1383                    10.380668                  7.011919   \n",
       "\n",
       "      Cash_profit_as_%_of_total_income  Current_ratio  Debt_to_equity_ratio  \n",
       "1379                          9.013495           1.35                  0.40  \n",
       "1380                         12.489233           1.07                  0.06  \n",
       "1381                         17.987988           2.21                  0.11  \n",
       "1382                          7.216219           0.60                  0.12  \n",
       "1383                          7.216219           2.83                  0.08  "
      ]
     },
     "execution_count": 4,
     "metadata": {},
     "output_type": "execute_result"
    }
   ],
   "source": [
    "df.tail()               #need to change the names of columns to make it short"
   ]
  },
  {
   "cell_type": "code",
   "execution_count": 6,
   "id": "3fe1b66b",
   "metadata": {},
   "outputs": [
    {
     "data": {
      "text/plain": [
       "(1384, 10)"
      ]
     },
     "execution_count": 6,
     "metadata": {},
     "output_type": "execute_result"
    }
   ],
   "source": [
    "df.shape"
   ]
  },
  {
   "cell_type": "code",
   "execution_count": 9,
   "id": "9de51742",
   "metadata": {},
   "outputs": [
    {
     "name": "stdout",
     "output_type": "stream",
     "text": [
      "<class 'pandas.core.frame.DataFrame'>\n",
      "RangeIndex: 1384 entries, 0 to 1383\n",
      "Data columns (total 10 columns):\n",
      " #   Column                            Non-Null Count  Dtype  \n",
      "---  ------                            --------------  -----  \n",
      " 0   Num                               1384 non-null   int64  \n",
      " 1   default                           1384 non-null   int64  \n",
      " 2   Total_assets                      1384 non-null   float64\n",
      " 3   Total_income                      1384 non-null   float64\n",
      " 4   PAT_as_%_of_total_income          1384 non-null   float64\n",
      " 5   PBDITA_as_%_of_total_income       1384 non-null   float64\n",
      " 6   PBT_as_%_of_total_income          1384 non-null   float64\n",
      " 7   Cash_profit_as_%_of_total_income  1384 non-null   float64\n",
      " 8   Current_ratio                     1384 non-null   float64\n",
      " 9   Debt_to_equity_ratio              1384 non-null   float64\n",
      "dtypes: float64(8), int64(2)\n",
      "memory usage: 108.2 KB\n"
     ]
    }
   ],
   "source": [
    "df.info()"
   ]
  },
  {
   "cell_type": "code",
   "execution_count": 7,
   "id": "340c35a8",
   "metadata": {},
   "outputs": [
    {
     "data": {
      "text/plain": [
       "0"
      ]
     },
     "execution_count": 7,
     "metadata": {},
     "output_type": "execute_result"
    }
   ],
   "source": [
    "df.isnull().sum().sum()  #total sum of nan values in dataframe"
   ]
  },
  {
   "cell_type": "code",
   "execution_count": 8,
   "id": "8c13ee80",
   "metadata": {},
   "outputs": [
    {
     "data": {
      "text/plain": [
       "0"
      ]
     },
     "execution_count": 8,
     "metadata": {},
     "output_type": "execute_result"
    }
   ],
   "source": [
    "df.duplicated().sum()    # no duplicate values "
   ]
  },
  {
   "cell_type": "markdown",
   "id": "c8f9dc90",
   "metadata": {},
   "source": [
    "### Observations: \n",
    "\n",
    "1. There are 1384 rows and 10 columns in the dataframe. All the columns are numeric datatype. \n",
    "2. \"default\" seems to be the dependent column in the dataframe and others as just the predictor of default. \n",
    "3. There is a \"Num\" column available in the dataset. We might drop this column as it is just adding particular number for the company and we will not need it as predictor to predict default. \n",
    "4. There are no null entries in data (We'll check for bad data)\n",
    "5. There are no duplicated entries in the dataset. \n"
   ]
  },
  {
   "cell_type": "code",
   "execution_count": 12,
   "id": "49ad4725",
   "metadata": {},
   "outputs": [
    {
     "data": {
      "text/html": [
       "<div>\n",
       "<style scoped>\n",
       "    .dataframe tbody tr th:only-of-type {\n",
       "        vertical-align: middle;\n",
       "    }\n",
       "\n",
       "    .dataframe tbody tr th {\n",
       "        vertical-align: top;\n",
       "    }\n",
       "\n",
       "    .dataframe thead th {\n",
       "        text-align: right;\n",
       "    }\n",
       "</style>\n",
       "<table border=\"1\" class=\"dataframe\">\n",
       "  <thead>\n",
       "    <tr style=\"text-align: right;\">\n",
       "      <th></th>\n",
       "      <th>count</th>\n",
       "      <th>mean</th>\n",
       "      <th>std</th>\n",
       "      <th>min</th>\n",
       "      <th>25%</th>\n",
       "      <th>50%</th>\n",
       "      <th>75%</th>\n",
       "      <th>max</th>\n",
       "    </tr>\n",
       "  </thead>\n",
       "  <tbody>\n",
       "    <tr>\n",
       "      <th>Num</th>\n",
       "      <td>1384.0</td>\n",
       "      <td>1028.897399</td>\n",
       "      <td>803.174141</td>\n",
       "      <td>1.0</td>\n",
       "      <td>346.750000</td>\n",
       "      <td>692.500000</td>\n",
       "      <td>1718.250000</td>\n",
       "      <td>3472.0000</td>\n",
       "    </tr>\n",
       "    <tr>\n",
       "      <th>default</th>\n",
       "      <td>1384.0</td>\n",
       "      <td>0.234104</td>\n",
       "      <td>0.423591</td>\n",
       "      <td>0.0</td>\n",
       "      <td>0.000000</td>\n",
       "      <td>0.000000</td>\n",
       "      <td>0.000000</td>\n",
       "      <td>1.0000</td>\n",
       "    </tr>\n",
       "    <tr>\n",
       "      <th>Total_assets</th>\n",
       "      <td>1384.0</td>\n",
       "      <td>256.762568</td>\n",
       "      <td>404.127921</td>\n",
       "      <td>0.5</td>\n",
       "      <td>25.800000</td>\n",
       "      <td>103.450000</td>\n",
       "      <td>296.825000</td>\n",
       "      <td>2275.9710</td>\n",
       "    </tr>\n",
       "    <tr>\n",
       "      <th>Total_income</th>\n",
       "      <td>1384.0</td>\n",
       "      <td>381.657131</td>\n",
       "      <td>583.461117</td>\n",
       "      <td>0.1</td>\n",
       "      <td>31.225000</td>\n",
       "      <td>187.550000</td>\n",
       "      <td>428.142581</td>\n",
       "      <td>3449.8260</td>\n",
       "    </tr>\n",
       "    <tr>\n",
       "      <th>PAT_as_%_of_total_income</th>\n",
       "      <td>1384.0</td>\n",
       "      <td>-29.922088</td>\n",
       "      <td>346.245121</td>\n",
       "      <td>-9700.0</td>\n",
       "      <td>0.000000</td>\n",
       "      <td>1.464327</td>\n",
       "      <td>4.075183</td>\n",
       "      <td>150.0000</td>\n",
       "    </tr>\n",
       "    <tr>\n",
       "      <th>PBDITA_as_%_of_total_income</th>\n",
       "      <td>1384.0</td>\n",
       "      <td>-4.380180</td>\n",
       "      <td>218.854784</td>\n",
       "      <td>-6400.0</td>\n",
       "      <td>3.501816</td>\n",
       "      <td>8.569963</td>\n",
       "      <td>13.438735</td>\n",
       "      <td>100.0000</td>\n",
       "    </tr>\n",
       "    <tr>\n",
       "      <th>PBT_as_%_of_total_income</th>\n",
       "      <td>1384.0</td>\n",
       "      <td>-27.554086</td>\n",
       "      <td>332.137949</td>\n",
       "      <td>-9700.0</td>\n",
       "      <td>0.000000</td>\n",
       "      <td>2.148565</td>\n",
       "      <td>5.345512</td>\n",
       "      <td>100.0000</td>\n",
       "    </tr>\n",
       "    <tr>\n",
       "      <th>Cash_profit_as_%_of_total_income</th>\n",
       "      <td>1384.0</td>\n",
       "      <td>-16.239313</td>\n",
       "      <td>245.587280</td>\n",
       "      <td>-6400.0</td>\n",
       "      <td>1.045456</td>\n",
       "      <td>4.638115</td>\n",
       "      <td>8.024023</td>\n",
       "      <td>100.0000</td>\n",
       "    </tr>\n",
       "    <tr>\n",
       "      <th>Current_ratio</th>\n",
       "      <td>1384.0</td>\n",
       "      <td>1.771303</td>\n",
       "      <td>2.323773</td>\n",
       "      <td>0.0</td>\n",
       "      <td>0.880000</td>\n",
       "      <td>1.230000</td>\n",
       "      <td>1.942500</td>\n",
       "      <td>18.7900</td>\n",
       "    </tr>\n",
       "    <tr>\n",
       "      <th>Debt_to_equity_ratio</th>\n",
       "      <td>1384.0</td>\n",
       "      <td>3.394933</td>\n",
       "      <td>11.364884</td>\n",
       "      <td>0.0</td>\n",
       "      <td>0.187500</td>\n",
       "      <td>0.860000</td>\n",
       "      <td>1.970000</td>\n",
       "      <td>90.9441</td>\n",
       "    </tr>\n",
       "  </tbody>\n",
       "</table>\n",
       "</div>"
      ],
      "text/plain": [
       "                                   count         mean         std     min  \\\n",
       "Num                               1384.0  1028.897399  803.174141     1.0   \n",
       "default                           1384.0     0.234104    0.423591     0.0   \n",
       "Total_assets                      1384.0   256.762568  404.127921     0.5   \n",
       "Total_income                      1384.0   381.657131  583.461117     0.1   \n",
       "PAT_as_%_of_total_income          1384.0   -29.922088  346.245121 -9700.0   \n",
       "PBDITA_as_%_of_total_income       1384.0    -4.380180  218.854784 -6400.0   \n",
       "PBT_as_%_of_total_income          1384.0   -27.554086  332.137949 -9700.0   \n",
       "Cash_profit_as_%_of_total_income  1384.0   -16.239313  245.587280 -6400.0   \n",
       "Current_ratio                     1384.0     1.771303    2.323773     0.0   \n",
       "Debt_to_equity_ratio              1384.0     3.394933   11.364884     0.0   \n",
       "\n",
       "                                         25%         50%          75%  \\\n",
       "Num                               346.750000  692.500000  1718.250000   \n",
       "default                             0.000000    0.000000     0.000000   \n",
       "Total_assets                       25.800000  103.450000   296.825000   \n",
       "Total_income                       31.225000  187.550000   428.142581   \n",
       "PAT_as_%_of_total_income            0.000000    1.464327     4.075183   \n",
       "PBDITA_as_%_of_total_income         3.501816    8.569963    13.438735   \n",
       "PBT_as_%_of_total_income            0.000000    2.148565     5.345512   \n",
       "Cash_profit_as_%_of_total_income    1.045456    4.638115     8.024023   \n",
       "Current_ratio                       0.880000    1.230000     1.942500   \n",
       "Debt_to_equity_ratio                0.187500    0.860000     1.970000   \n",
       "\n",
       "                                        max  \n",
       "Num                               3472.0000  \n",
       "default                              1.0000  \n",
       "Total_assets                      2275.9710  \n",
       "Total_income                      3449.8260  \n",
       "PAT_as_%_of_total_income           150.0000  \n",
       "PBDITA_as_%_of_total_income        100.0000  \n",
       "PBT_as_%_of_total_income           100.0000  \n",
       "Cash_profit_as_%_of_total_income   100.0000  \n",
       "Current_ratio                       18.7900  \n",
       "Debt_to_equity_ratio                90.9441  "
      ]
     },
     "execution_count": 12,
     "metadata": {},
     "output_type": "execute_result"
    }
   ],
   "source": [
    "df.describe().T"
   ]
  },
  {
   "cell_type": "code",
   "execution_count": 3,
   "id": "89f42e59",
   "metadata": {},
   "outputs": [],
   "source": [
    "#Profit after Tax % of total income\n",
    "#Profit Before Depreciation, Interest and Tax  % of total income\n",
    "#Profit Before Tax % of total income\n",
    "\n",
    "df.columns = df.columns.str.replace(\"as_%_of\", \"to\")"
   ]
  },
  {
   "cell_type": "code",
   "execution_count": 14,
   "id": "7e788852",
   "metadata": {},
   "outputs": [
    {
     "data": {
      "text/html": [
       "<div>\n",
       "<style scoped>\n",
       "    .dataframe tbody tr th:only-of-type {\n",
       "        vertical-align: middle;\n",
       "    }\n",
       "\n",
       "    .dataframe tbody tr th {\n",
       "        vertical-align: top;\n",
       "    }\n",
       "\n",
       "    .dataframe thead th {\n",
       "        text-align: right;\n",
       "    }\n",
       "</style>\n",
       "<table border=\"1\" class=\"dataframe\">\n",
       "  <thead>\n",
       "    <tr style=\"text-align: right;\">\n",
       "      <th></th>\n",
       "      <th>Num</th>\n",
       "      <th>default</th>\n",
       "      <th>Total_assets</th>\n",
       "      <th>Total_income</th>\n",
       "      <th>PAT_to_total_income</th>\n",
       "      <th>PBDITA_to_total_income</th>\n",
       "      <th>PBT_to_total_income</th>\n",
       "      <th>Cash_profit_to_total_income</th>\n",
       "      <th>Current_ratio</th>\n",
       "      <th>Debt_to_equity_ratio</th>\n",
       "    </tr>\n",
       "  </thead>\n",
       "  <tbody>\n",
       "    <tr>\n",
       "      <th>0</th>\n",
       "      <td>1</td>\n",
       "      <td>1</td>\n",
       "      <td>210.5</td>\n",
       "      <td>125.3</td>\n",
       "      <td>-25.059856</td>\n",
       "      <td>-10.454908</td>\n",
       "      <td>-25.059856</td>\n",
       "      <td>-19.792498</td>\n",
       "      <td>0.86</td>\n",
       "      <td>2.99</td>\n",
       "    </tr>\n",
       "    <tr>\n",
       "      <th>1</th>\n",
       "      <td>2</td>\n",
       "      <td>1</td>\n",
       "      <td>674.4</td>\n",
       "      <td>939.6</td>\n",
       "      <td>-5.487016</td>\n",
       "      <td>-0.723712</td>\n",
       "      <td>-5.487016</td>\n",
       "      <td>-4.252448</td>\n",
       "      <td>0.87</td>\n",
       "      <td>48.74</td>\n",
       "    </tr>\n",
       "    <tr>\n",
       "      <th>2</th>\n",
       "      <td>3</td>\n",
       "      <td>1</td>\n",
       "      <td>288.3</td>\n",
       "      <td>1.2</td>\n",
       "      <td>-2233.333333</td>\n",
       "      <td>-1785.083333</td>\n",
       "      <td>-2175.000000</td>\n",
       "      <td>-2100.000000</td>\n",
       "      <td>1.40</td>\n",
       "      <td>0.28</td>\n",
       "    </tr>\n",
       "    <tr>\n",
       "      <th>3</th>\n",
       "      <td>4</td>\n",
       "      <td>1</td>\n",
       "      <td>32.2</td>\n",
       "      <td>30.3</td>\n",
       "      <td>-15.511551</td>\n",
       "      <td>-6.930693</td>\n",
       "      <td>-15.181518</td>\n",
       "      <td>-12.541254</td>\n",
       "      <td>0.44</td>\n",
       "      <td>24.50</td>\n",
       "    </tr>\n",
       "    <tr>\n",
       "      <th>4</th>\n",
       "      <td>5</td>\n",
       "      <td>1</td>\n",
       "      <td>380.9</td>\n",
       "      <td>24.6</td>\n",
       "      <td>-208.943089</td>\n",
       "      <td>-1.626016</td>\n",
       "      <td>-208.536585</td>\n",
       "      <td>-142.276423</td>\n",
       "      <td>1.17</td>\n",
       "      <td>10.37</td>\n",
       "    </tr>\n",
       "  </tbody>\n",
       "</table>\n",
       "</div>"
      ],
      "text/plain": [
       "   Num  default  Total_assets  Total_income  PAT_to_total_income  \\\n",
       "0    1        1         210.5         125.3           -25.059856   \n",
       "1    2        1         674.4         939.6            -5.487016   \n",
       "2    3        1         288.3           1.2         -2233.333333   \n",
       "3    4        1          32.2          30.3           -15.511551   \n",
       "4    5        1         380.9          24.6          -208.943089   \n",
       "\n",
       "   PBDITA_to_total_income  PBT_to_total_income  Cash_profit_to_total_income  \\\n",
       "0              -10.454908           -25.059856                   -19.792498   \n",
       "1               -0.723712            -5.487016                    -4.252448   \n",
       "2            -1785.083333         -2175.000000                 -2100.000000   \n",
       "3               -6.930693           -15.181518                   -12.541254   \n",
       "4               -1.626016          -208.536585                  -142.276423   \n",
       "\n",
       "   Current_ratio  Debt_to_equity_ratio  \n",
       "0           0.86                  2.99  \n",
       "1           0.87                 48.74  \n",
       "2           1.40                  0.28  \n",
       "3           0.44                 24.50  \n",
       "4           1.17                 10.37  "
      ]
     },
     "execution_count": 14,
     "metadata": {},
     "output_type": "execute_result"
    }
   ],
   "source": [
    "df.head()                    #looks better now "
   ]
  },
  {
   "cell_type": "code",
   "execution_count": 4,
   "id": "a9ee1de4",
   "metadata": {},
   "outputs": [],
   "source": [
    "df.drop(['Num'], axis=1, inplace=True)            #dropped Num column "
   ]
  },
  {
   "cell_type": "markdown",
   "id": "8147b2f7",
   "metadata": {},
   "source": [
    "## Univatriate, Bivariate and Multivariate Analysis"
   ]
  },
  {
   "cell_type": "code",
   "execution_count": 18,
   "id": "a22f5822",
   "metadata": {},
   "outputs": [
    {
     "name": "stdout",
     "output_type": "stream",
     "text": [
      "0    0.765896\n",
      "1    0.234104\n",
      "Name: default, dtype: float64\n",
      "\n"
     ]
    },
    {
     "data": {
      "image/png": "[encoded data removed]",
      "text/plain": [
       "<Figure size 432x288 with 1 Axes>"
      ]
     },
     "metadata": {
      "needs_background": "light"
     },
     "output_type": "display_data"
    }
   ],
   "source": [
    "print(df['default'].value_counts(normalize=True))\n",
    "print(\"\")\n",
    "sns.countplot(df['default'])\n",
    "plt.show();\n",
    "\n",
    "#76% of the data belongs to non default while 23 % belongs to default\n",
    "#This column is only categorical column"
   ]
  },
  {
   "cell_type": "code",
   "execution_count": 5,
   "id": "7bdabe4e",
   "metadata": {},
   "outputs": [],
   "source": [
    "df1 = df.drop(['default'],axis=1)"
   ]
  },
  {
   "cell_type": "code",
   "execution_count": 30,
   "id": "2cfeb714",
   "metadata": {},
   "outputs": [
    {
     "data": {
      "image/png": "[encoded data removed]",
      "text/plain": [
       "<Figure size 864x720 with 8 Axes>"
      ]
     },
     "metadata": {
      "needs_background": "light"
     },
     "output_type": "display_data"
    }
   ],
   "source": [
    "plt.figure(figsize = (12,10))\n",
    "feature_list = df1.columns #To acess all columns\n",
    "for i in range(len(feature_list)):  # Instead of giving instructions again and again, running for loop \n",
    "        plt.subplot(3,3,i+1) #How many subplot do we require- rows and columns. Indexing starts from 1\n",
    "        sns.boxplot(y= df1[feature_list[i]], data = df1) #boxplot\n",
    "        plt.title('Boxplot of {}'.format(feature_list[i]))\n",
    "        plt.tight_layout();\n",
    "        \n",
    "#all columns have outlier"
   ]
  },
  {
   "cell_type": "code",
   "execution_count": 29,
   "id": "ddd4fa04",
   "metadata": {},
   "outputs": [
    {
     "data": {
      "image/png": "[encoded data removed]",
      "text/plain": [
       "<Figure size 864x720 with 8 Axes>"
      ]
     },
     "metadata": {
      "needs_background": "light"
     },
     "output_type": "display_data"
    }
   ],
   "source": [
    "plt.figure(figsize = (12,10))\n",
    "feature_list = df1.columns #To acess all columns\n",
    "for i in range(len(feature_list)):  # Instead of giving instructions again and again, running for loop \n",
    "        plt.subplot(3,3,i+1) #How many subplot do we require- rows and columns. Indexing starts from 1\n",
    "        sns.boxplot(y= df1[feature_list[i]], x=df['default'], data = df1) #boxplot\n",
    "        plt.title('Boxplot of {}'.format(feature_list[i]))\n",
    "        plt.tight_layout();"
   ]
  },
  {
   "cell_type": "code",
   "execution_count": 23,
   "id": "e243a866",
   "metadata": {},
   "outputs": [
    {
     "data": {
      "text/plain": [
       "<seaborn.axisgrid.PairGrid at 0x26848f5ce50>"
      ]
     },
     "execution_count": 23,
     "metadata": {},
     "output_type": "execute_result"
    },
    {
     "data": {
      "image/png": "[encoded data removed]",
      "text/plain": [
       "<Figure size 1483.38x1440 with 72 Axes>"
      ]
     },
     "metadata": {
      "needs_background": "light"
     },
     "output_type": "display_data"
    }
   ],
   "source": [
    "sns.pairplot(df, hue='default', diag_kind = 'kde')\n",
    "\n",
    "#default 1 - Orange\n",
    "#default 0 - Blue"
   ]
  },
  {
   "cell_type": "markdown",
   "id": "c24154bc",
   "metadata": {},
   "source": [
    "### Observations:\n",
    "\n",
    "6. Skewness\n",
    "\n",
    "   -> Total assest, Total income, Current_ratio and Debt to equity_ratio are right skewed.\n",
    "   \n",
    "   -> pat_to_total income, pbdita_to_total income, pbt_to_total income, cash_profit_to_total income seemed to be left skewed. While all the defaults and non defaults are segregated for these columns.\n",
    "\n",
    "\n",
    "7. Multivariate Analysis Numerical varaiables and Default.\n",
    "\n",
    "   -> positive relation between total_assest and total income\n",
    "   \n",
    "   -> assest can be a good factor to decide default and non default. More the asset, lower the default(0)\n",
    "   \n",
    "   -> total income not a good factor. But boxplot shows higher the total income lower the default\n",
    "   \n",
    "   -> We observe a segregated picture for these columns pat,pbdita,pbt,cash_profit to total income  for default and non defaults\n",
    "   \n",
    "   -> current ratio not a good factor overlapping. Boxplot shows nearly equal median for both class.\n",
    "   \n",
    "   -> debt to equity ratio not a good factor overlapping. though it has more upper limit and more outliers at higher level"
   ]
  },
  {
   "cell_type": "code",
   "execution_count": 33,
   "id": "c13229ba",
   "metadata": {},
   "outputs": [
    {
     "data": {
      "image/png": "[encoded data removed]",
      "text/plain": [
       "<Figure size 720x720 with 2 Axes>"
      ]
     },
     "metadata": {
      "needs_background": "light"
     },
     "output_type": "display_data"
    }
   ],
   "source": [
    "plt.figure(figsize=(10,10))\n",
    "sns.heatmap(df.corr(),fmt='.2g',annot=True );"
   ]
  },
  {
   "cell_type": "markdown",
   "id": "010e797b",
   "metadata": {},
   "source": [
    "### Observations:\n",
    "\n",
    "8. Correlation\n",
    "\n",
    "   -> High correlation between total_assest and total income (as we have already observed in pairplots)\n",
    "   \n",
    "   -> pat_to_total income, pbdita_to_total income, pbt_to_total income, cash_profit_to_total income show very high correlation amongst each other.\n",
    "   \n",
    "   -> pbt_to_total income and pat_to_total income shows almost 100% as correlation\n"
   ]
  },
  {
   "cell_type": "markdown",
   "id": "cdf962af",
   "metadata": {},
   "source": [
    "## Model Building (Without treating outliers)"
   ]
  },
  {
   "cell_type": "code",
   "execution_count": 5,
   "id": "546fac94",
   "metadata": {},
   "outputs": [],
   "source": [
    "from sklearn.linear_model import LogisticRegression \n",
    "from sklearn.model_selection import train_test_split\n",
    "#validation\n",
    "from sklearn.metrics import confusion_matrix, classification_report, roc_auc_score, roc_curve"
   ]
  },
  {
   "cell_type": "code",
   "execution_count": 6,
   "id": "9d11efc9",
   "metadata": {},
   "outputs": [],
   "source": [
    "#seperating\n",
    "x=df.drop('default',axis=1)\n",
    "y=df.pop('default')"
   ]
  },
  {
   "cell_type": "code",
   "execution_count": 7,
   "id": "17d8f9e2",
   "metadata": {},
   "outputs": [],
   "source": [
    "#test_train_split\n",
    "x_train,x_test,y_train,y_test=train_test_split(x,y,test_size=0.30,random_state=7)"
   ]
  },
  {
   "cell_type": "code",
   "execution_count": 50,
   "id": "340ad002",
   "metadata": {},
   "outputs": [
    {
     "data": {
      "text/plain": [
       "0    740\n",
       "1    228\n",
       "Name: default, dtype: int64"
      ]
     },
     "execution_count": 50,
     "metadata": {},
     "output_type": "execute_result"
    }
   ],
   "source": [
    "y_train.value_counts()"
   ]
  },
  {
   "cell_type": "code",
   "execution_count": 51,
   "id": "668d58e9",
   "metadata": {},
   "outputs": [
    {
     "data": {
      "text/plain": [
       "0    320\n",
       "1     96\n",
       "Name: default, dtype: int64"
      ]
     },
     "execution_count": 51,
     "metadata": {},
     "output_type": "execute_result"
    }
   ],
   "source": [
    "y_test.value_counts()"
   ]
  },
  {
   "cell_type": "code",
   "execution_count": 9,
   "id": "ea3bcfec",
   "metadata": {},
   "outputs": [
    {
     "data": {
      "text/plain": [
       "LogisticRegression(solver='liblinear')"
      ]
     },
     "execution_count": 9,
     "metadata": {},
     "output_type": "execute_result"
    }
   ],
   "source": [
    "#training the model\n",
    "model=LogisticRegression(solver='liblinear')\n",
    "model.fit(x_train,y_train)"
   ]
  },
  {
   "cell_type": "code",
   "execution_count": 10,
   "id": "5703a59b",
   "metadata": {},
   "outputs": [],
   "source": [
    "#predicting \n",
    "y_train_predict=model.predict(x_train)\n",
    "y_test_predict=model.predict(x_test)\n",
    "y_train_predict_proba=model.predict_proba(x_train)\n",
    "y_test_predict_proba=model.predict_proba(x_test)"
   ]
  },
  {
   "cell_type": "code",
   "execution_count": 11,
   "id": "296cc449",
   "metadata": {},
   "outputs": [
    {
     "name": "stdout",
     "output_type": "stream",
     "text": [
      "The accuracy of the model is  0.8140495867768595\n",
      "\n",
      "\n",
      "Confusion Matrix\n",
      "[[731   9]\n",
      " [171  57]]\n",
      "\n",
      "\n",
      "Classification Report\n",
      "              precision    recall  f1-score   support\n",
      "\n",
      "           0       0.81      0.99      0.89       740\n",
      "           1       0.86      0.25      0.39       228\n",
      "\n",
      "    accuracy                           0.81       968\n",
      "   macro avg       0.84      0.62      0.64       968\n",
      "weighted avg       0.82      0.81      0.77       968\n",
      "\n",
      "\n",
      "\n",
      "Area under the curve is 0.8361605026078711\n"
     ]
    },
    {
     "data": {
      "image/png": "[encoded data removed]",
      "text/plain": [
       "<Figure size 432x288 with 1 Axes>"
      ]
     },
     "metadata": {
      "needs_background": "light"
     },
     "output_type": "display_data"
    }
   ],
   "source": [
    "#For train set \n",
    "print('The accuracy of the model is ', model.score(x_train,y_train))\n",
    "print('\\n')\n",
    "print('Confusion Matrix')\n",
    "print(confusion_matrix(y_train, y_train_predict))\n",
    "print('\\n')\n",
    "print('Classification Report')\n",
    "print(classification_report(y_train, y_train_predict))\n",
    "print('\\n')\n",
    "auc=roc_auc_score(y_train,y_train_predict_proba[:,1])\n",
    "print('Area under the curve is', auc)\n",
    "fpr,tpr,threshold=roc_curve(y_train,y_train_predict_proba[:,1])\n",
    "plt.plot([0,1],[0,1],linestyle='--')\n",
    "plt.plot(fpr,tpr,marker='.')\n",
    "plt.show();"
   ]
  },
  {
   "cell_type": "code",
   "execution_count": 12,
   "id": "975f3095",
   "metadata": {},
   "outputs": [
    {
     "name": "stdout",
     "output_type": "stream",
     "text": [
      "The accuracy of the model is  0.7908653846153846\n",
      "\n",
      "\n",
      "Confusion Matrix\n",
      "[[314   6]\n",
      " [ 81  15]]\n",
      "\n",
      "\n",
      "Classification Report\n",
      "              precision    recall  f1-score   support\n",
      "\n",
      "           0       0.79      0.98      0.88       320\n",
      "           1       0.71      0.16      0.26        96\n",
      "\n",
      "    accuracy                           0.79       416\n",
      "   macro avg       0.75      0.57      0.57       416\n",
      "weighted avg       0.78      0.79      0.73       416\n",
      "\n",
      "\n",
      "\n",
      "Area under the curve is 0.8361605026078711\n"
     ]
    },
    {
     "data": {
      "image/png": "[encoded data removed]",
      "text/plain": [
       "<Figure size 432x288 with 1 Axes>"
      ]
     },
     "metadata": {
      "needs_background": "light"
     },
     "output_type": "display_data"
    }
   ],
   "source": [
    "#For test set \n",
    "print('The accuracy of the model is ', model.score(x_test,y_test))\n",
    "print('\\n')\n",
    "print('Confusion Matrix')\n",
    "print(confusion_matrix(y_test, y_test_predict))\n",
    "print('\\n')\n",
    "print('Classification Report')\n",
    "print( classification_report(y_test, y_test_predict))\n",
    "print('\\n')\n",
    "auc1=roc_auc_score(y_test,y_test_predict_proba[:,1])\n",
    "print('Area under the curve is', auc)\n",
    "fpr,tpr,threshold=roc_curve(y_test,y_test_predict_proba[:,1])\n",
    "plt.plot([0,1],[0,1],linestyle='--')\n",
    "plt.plot(fpr,tpr,marker='.')\n",
    "plt.show();"
   ]
  },
  {
   "cell_type": "markdown",
   "id": "49ae4630",
   "metadata": {},
   "source": [
    "#### Though the accuracy score of the model doesnot seemed to change in train and test dataset. but the precision, recall and f1 score on the unseen dataset has declined significantly. The model seem to be not performing well on the test data set.\n"
   ]
  },
  {
   "cell_type": "markdown",
   "id": "2dd3bc3e",
   "metadata": {},
   "source": [
    "## Model Building (treating outliers and Statsmodel)\n",
    "\n",
    "treating outliers doesnot influence the accuracy of the model."
   ]
  },
  {
   "cell_type": "code",
   "execution_count": 8,
   "id": "50973b31",
   "metadata": {},
   "outputs": [],
   "source": [
    "def remove_outliers(col):\n",
    "    sorted(col)\n",
    "    Q1,Q3= np.percentile(col,[25,75])\n",
    "    IQR=Q3-Q1\n",
    "    lower_range=Q1-(1.5*IQR)\n",
    "    upper_range=Q3+(1.5*IQR)\n",
    "    return lower_range, upper_range  "
   ]
  },
  {
   "cell_type": "code",
   "execution_count": 9,
   "id": "190e8088",
   "metadata": {},
   "outputs": [],
   "source": [
    "for columns in x.columns:\n",
    "    lr,ur= remove_outliers(x[columns])\n",
    "    x[columns] = np.where(x[columns]>ur,ur,x[columns])\n",
    "    x[columns] = np.where(x[columns]<lr,lr,x[columns])"
   ]
  },
  {
   "cell_type": "code",
   "execution_count": 10,
   "id": "13ae3887",
   "metadata": {},
   "outputs": [],
   "source": [
    "default=pd.concat([x,y],axis=1)\n"
   ]
  },
  {
   "cell_type": "code",
   "execution_count": 16,
   "id": "171e72aa",
   "metadata": {},
   "outputs": [
    {
     "data": {
      "image/png": "[encoded data removed]",
      "text/plain": [
       "<Figure size 1008x576 with 1 Axes>"
      ]
     },
     "metadata": {
      "needs_background": "light"
     },
     "output_type": "display_data"
    }
   ],
   "source": [
    "plt.figure(figsize=(14,8))\n",
    "default.boxplot();"
   ]
  },
  {
   "cell_type": "code",
   "execution_count": 11,
   "id": "9c720940",
   "metadata": {},
   "outputs": [],
   "source": [
    "import statsmodels.formula.api as SM"
   ]
  },
  {
   "cell_type": "code",
   "execution_count": 12,
   "id": "856430cf",
   "metadata": {},
   "outputs": [
    {
     "data": {
      "text/plain": [
       "Index(['Total_assets', 'Total_income', 'PAT_to_total_income',\n",
       "       'PBDITA_to_total_income', 'PBT_to_total_income',\n",
       "       'Cash_profit_to_total_income', 'Current_ratio', 'Debt_to_equity_ratio',\n",
       "       'default'],\n",
       "      dtype='object')"
      ]
     },
     "execution_count": 12,
     "metadata": {},
     "output_type": "execute_result"
    }
   ],
   "source": [
    "default.columns"
   ]
  },
  {
   "cell_type": "code",
   "execution_count": 13,
   "id": "d950ef48",
   "metadata": {},
   "outputs": [],
   "source": [
    "f= 'default ~ Total_assets + Total_income + PAT_to_total_income+ PBDITA_to_total_income + PBT_to_total_income+ Cash_profit_to_total_income +Current_ratio +Debt_to_equity_ratio'"
   ]
  },
  {
   "cell_type": "code",
   "execution_count": 14,
   "id": "5b9440f7",
   "metadata": {},
   "outputs": [
    {
     "name": "stdout",
     "output_type": "stream",
     "text": [
      "Optimization terminated successfully.\n",
      "         Current function value: 0.414667\n",
      "         Iterations 7\n"
     ]
    }
   ],
   "source": [
    "model_stats = SM.logit(formula=f,data=default).fit()"
   ]
  },
  {
   "cell_type": "code",
   "execution_count": 21,
   "id": "f522ec2a",
   "metadata": {},
   "outputs": [
    {
     "data": {
      "text/html": [
       "<table class=\"simpletable\">\n",
       "<caption>Logit Regression Results</caption>\n",
       "<tr>\n",
       "  <th>Dep. Variable:</th>        <td>default</td>     <th>  No. Observations:  </th>  <td>  1384</td>  \n",
       "</tr>\n",
       "<tr>\n",
       "  <th>Model:</th>                 <td>Logit</td>      <th>  Df Residuals:      </th>  <td>  1375</td>  \n",
       "</tr>\n",
       "<tr>\n",
       "  <th>Method:</th>                 <td>MLE</td>       <th>  Df Model:          </th>  <td>     8</td>  \n",
       "</tr>\n",
       "<tr>\n",
       "  <th>Date:</th>            <td>Wed, 06 Jul 2022</td> <th>  Pseudo R-squ.:     </th>  <td>0.2380</td>  \n",
       "</tr>\n",
       "<tr>\n",
       "  <th>Time:</th>                <td>00:26:54</td>     <th>  Log-Likelihood:    </th> <td> -573.90</td> \n",
       "</tr>\n",
       "<tr>\n",
       "  <th>converged:</th>             <td>True</td>       <th>  LL-Null:           </th> <td> -753.16</td> \n",
       "</tr>\n",
       "<tr>\n",
       "  <th>Covariance Type:</th>     <td>nonrobust</td>    <th>  LLR p-value:       </th> <td>1.378e-72</td>\n",
       "</tr>\n",
       "</table>\n",
       "<table class=\"simpletable\">\n",
       "<tr>\n",
       "               <td></td>                  <th>coef</th>     <th>std err</th>      <th>z</th>      <th>P>|z|</th>  <th>[0.025</th>    <th>0.975]</th>  \n",
       "</tr>\n",
       "<tr>\n",
       "  <th>Intercept</th>                   <td>   -0.9072</td> <td>    0.193</td> <td>   -4.693</td> <td> 0.000</td> <td>   -1.286</td> <td>   -0.528</td>\n",
       "</tr>\n",
       "<tr>\n",
       "  <th>Total_assets</th>                <td>   -0.0079</td> <td>    0.001</td> <td>  -10.203</td> <td> 0.000</td> <td>   -0.009</td> <td>   -0.006</td>\n",
       "</tr>\n",
       "<tr>\n",
       "  <th>Total_income</th>                <td>    0.0016</td> <td>    0.000</td> <td>    3.777</td> <td> 0.000</td> <td>    0.001</td> <td>    0.002</td>\n",
       "</tr>\n",
       "<tr>\n",
       "  <th>PAT_to_total_income</th>         <td>    0.0406</td> <td>    0.068</td> <td>    0.601</td> <td> 0.548</td> <td>   -0.092</td> <td>    0.173</td>\n",
       "</tr>\n",
       "<tr>\n",
       "  <th>PBDITA_to_total_income</th>      <td>    0.0331</td> <td>    0.015</td> <td>    2.186</td> <td> 0.029</td> <td>    0.003</td> <td>    0.063</td>\n",
       "</tr>\n",
       "<tr>\n",
       "  <th>PBT_to_total_income</th>         <td>   -0.0845</td> <td>    0.053</td> <td>   -1.588</td> <td> 0.112</td> <td>   -0.189</td> <td>    0.020</td>\n",
       "</tr>\n",
       "<tr>\n",
       "  <th>Cash_profit_to_total_income</th> <td>   -0.0605</td> <td>    0.022</td> <td>   -2.757</td> <td> 0.006</td> <td>   -0.104</td> <td>   -0.018</td>\n",
       "</tr>\n",
       "<tr>\n",
       "  <th>Current_ratio</th>               <td>   -0.1658</td> <td>    0.081</td> <td>   -2.046</td> <td> 0.041</td> <td>   -0.325</td> <td>   -0.007</td>\n",
       "</tr>\n",
       "<tr>\n",
       "  <th>Debt_to_equity_ratio</th>        <td>    0.4780</td> <td>    0.049</td> <td>    9.665</td> <td> 0.000</td> <td>    0.381</td> <td>    0.575</td>\n",
       "</tr>\n",
       "</table>"
      ],
      "text/plain": [
       "<class 'statsmodels.iolib.summary.Summary'>\n",
       "\"\"\"\n",
       "                           Logit Regression Results                           \n",
       "==============================================================================\n",
       "Dep. Variable:                default   No. Observations:                 1384\n",
       "Model:                          Logit   Df Residuals:                     1375\n",
       "Method:                           MLE   Df Model:                            8\n",
       "Date:                Wed, 06 Jul 2022   Pseudo R-squ.:                  0.2380\n",
       "Time:                        00:26:54   Log-Likelihood:                -573.90\n",
       "converged:                       True   LL-Null:                       -753.16\n",
       "Covariance Type:            nonrobust   LLR p-value:                 1.378e-72\n",
       "===============================================================================================\n",
       "                                  coef    std err          z      P>|z|      [0.025      0.975]\n",
       "-----------------------------------------------------------------------------------------------\n",
       "Intercept                      -0.9072      0.193     -4.693      0.000      -1.286      -0.528\n",
       "Total_assets                   -0.0079      0.001    -10.203      0.000      -0.009      -0.006\n",
       "Total_income                    0.0016      0.000      3.777      0.000       0.001       0.002\n",
       "PAT_to_total_income             0.0406      0.068      0.601      0.548      -0.092       0.173\n",
       "PBDITA_to_total_income          0.0331      0.015      2.186      0.029       0.003       0.063\n",
       "PBT_to_total_income            -0.0845      0.053     -1.588      0.112      -0.189       0.020\n",
       "Cash_profit_to_total_income    -0.0605      0.022     -2.757      0.006      -0.104      -0.018\n",
       "Current_ratio                  -0.1658      0.081     -2.046      0.041      -0.325      -0.007\n",
       "Debt_to_equity_ratio            0.4780      0.049      9.665      0.000       0.381       0.575\n",
       "===============================================================================================\n",
       "\"\"\""
      ]
     },
     "execution_count": 21,
     "metadata": {},
     "output_type": "execute_result"
    }
   ],
   "source": [
    "#summary\n",
    "model_stats.summary()"
   ]
  },
  {
   "cell_type": "markdown",
   "id": "42165681",
   "metadata": {},
   "source": [
    "PAT_to_total_income, PBT_to_total_income seems to be insignificant in building the model. This might be due to high correlation we noticed in heatmap."
   ]
  },
  {
   "cell_type": "code",
   "execution_count": null,
   "id": "ea105ee9",
   "metadata": {},
   "outputs": [],
   "source": [
    "#There are number of variables and some of them are correlated to each other, \n",
    "#Let us now check if the independent variable shows high VIF it means the column is redundant\n",
    "#Consequently, We will keep most important variables (more than 5 not a good factor)"
   ]
  },
  {
   "cell_type": "code",
   "execution_count": 24,
   "id": "90dbf9de",
   "metadata": {},
   "outputs": [],
   "source": [
    "from statsmodels.stats.outliers_influence import variance_inflation_factor\n",
    "\n",
    "def cal_vif(x):\n",
    "    vif= pd.DataFrame() #empty\n",
    "    vif['Variables']=x.columns\n",
    "    vif[\"VIF\"] = [variance_inflation_factor(x.values,i) for i in range (x.shape[1])]\n",
    "    return (vif)"
   ]
  },
  {
   "cell_type": "code",
   "execution_count": 25,
   "id": "80d2f3d0",
   "metadata": {},
   "outputs": [
    {
     "data": {
      "text/html": [
       "<div>\n",
       "<style scoped>\n",
       "    .dataframe tbody tr th:only-of-type {\n",
       "        vertical-align: middle;\n",
       "    }\n",
       "\n",
       "    .dataframe tbody tr th {\n",
       "        vertical-align: top;\n",
       "    }\n",
       "\n",
       "    .dataframe thead th {\n",
       "        text-align: right;\n",
       "    }\n",
       "</style>\n",
       "<table border=\"1\" class=\"dataframe\">\n",
       "  <thead>\n",
       "    <tr style=\"text-align: right;\">\n",
       "      <th></th>\n",
       "      <th>Variables</th>\n",
       "      <th>VIF</th>\n",
       "    </tr>\n",
       "  </thead>\n",
       "  <tbody>\n",
       "    <tr>\n",
       "      <th>4</th>\n",
       "      <td>PBT_to_total_income</td>\n",
       "      <td>21.102170</td>\n",
       "    </tr>\n",
       "    <tr>\n",
       "      <th>2</th>\n",
       "      <td>PAT_to_total_income</td>\n",
       "      <td>19.296923</td>\n",
       "    </tr>\n",
       "    <tr>\n",
       "      <th>5</th>\n",
       "      <td>Cash_profit_to_total_income</td>\n",
       "      <td>7.997149</td>\n",
       "    </tr>\n",
       "    <tr>\n",
       "      <th>3</th>\n",
       "      <td>PBDITA_to_total_income</td>\n",
       "      <td>7.834539</td>\n",
       "    </tr>\n",
       "    <tr>\n",
       "      <th>0</th>\n",
       "      <td>Total_assets</td>\n",
       "      <td>5.199503</td>\n",
       "    </tr>\n",
       "    <tr>\n",
       "      <th>1</th>\n",
       "      <td>Total_income</td>\n",
       "      <td>5.155808</td>\n",
       "    </tr>\n",
       "    <tr>\n",
       "      <th>6</th>\n",
       "      <td>Current_ratio</td>\n",
       "      <td>1.983593</td>\n",
       "    </tr>\n",
       "    <tr>\n",
       "      <th>7</th>\n",
       "      <td>Debt_to_equity_ratio</td>\n",
       "      <td>1.857565</td>\n",
       "    </tr>\n",
       "  </tbody>\n",
       "</table>\n",
       "</div>"
      ],
      "text/plain": [
       "                     Variables        VIF\n",
       "4          PBT_to_total_income  21.102170\n",
       "2          PAT_to_total_income  19.296923\n",
       "5  Cash_profit_to_total_income   7.997149\n",
       "3       PBDITA_to_total_income   7.834539\n",
       "0                 Total_assets   5.199503\n",
       "1                 Total_income   5.155808\n",
       "6                Current_ratio   1.983593\n",
       "7         Debt_to_equity_ratio   1.857565"
      ]
     },
     "execution_count": 25,
     "metadata": {},
     "output_type": "execute_result"
    }
   ],
   "source": [
    "X = default.drop(['default'], axis=1)\n",
    "cal_vif(X).sort_values(by='VIF',ascending=False)"
   ]
  },
  {
   "cell_type": "code",
   "execution_count": 26,
   "id": "a1df9b2d",
   "metadata": {},
   "outputs": [
    {
     "data": {
      "text/html": [
       "<div>\n",
       "<style scoped>\n",
       "    .dataframe tbody tr th:only-of-type {\n",
       "        vertical-align: middle;\n",
       "    }\n",
       "\n",
       "    .dataframe tbody tr th {\n",
       "        vertical-align: top;\n",
       "    }\n",
       "\n",
       "    .dataframe thead th {\n",
       "        text-align: right;\n",
       "    }\n",
       "</style>\n",
       "<table border=\"1\" class=\"dataframe\">\n",
       "  <thead>\n",
       "    <tr style=\"text-align: right;\">\n",
       "      <th></th>\n",
       "      <th>Variables</th>\n",
       "      <th>VIF</th>\n",
       "    </tr>\n",
       "  </thead>\n",
       "  <tbody>\n",
       "    <tr>\n",
       "      <th>4</th>\n",
       "      <td>Cash_profit_to_total_income</td>\n",
       "      <td>7.876186</td>\n",
       "    </tr>\n",
       "    <tr>\n",
       "      <th>3</th>\n",
       "      <td>PBDITA_to_total_income</td>\n",
       "      <td>7.775399</td>\n",
       "    </tr>\n",
       "    <tr>\n",
       "      <th>0</th>\n",
       "      <td>Total_assets</td>\n",
       "      <td>5.199503</td>\n",
       "    </tr>\n",
       "    <tr>\n",
       "      <th>1</th>\n",
       "      <td>Total_income</td>\n",
       "      <td>5.140456</td>\n",
       "    </tr>\n",
       "    <tr>\n",
       "      <th>2</th>\n",
       "      <td>PAT_to_total_income</td>\n",
       "      <td>3.500457</td>\n",
       "    </tr>\n",
       "    <tr>\n",
       "      <th>5</th>\n",
       "      <td>Current_ratio</td>\n",
       "      <td>1.983329</td>\n",
       "    </tr>\n",
       "    <tr>\n",
       "      <th>6</th>\n",
       "      <td>Debt_to_equity_ratio</td>\n",
       "      <td>1.845903</td>\n",
       "    </tr>\n",
       "  </tbody>\n",
       "</table>\n",
       "</div>"
      ],
      "text/plain": [
       "                     Variables       VIF\n",
       "4  Cash_profit_to_total_income  7.876186\n",
       "3       PBDITA_to_total_income  7.775399\n",
       "0                 Total_assets  5.199503\n",
       "1                 Total_income  5.140456\n",
       "2          PAT_to_total_income  3.500457\n",
       "5                Current_ratio  1.983329\n",
       "6         Debt_to_equity_ratio  1.845903"
      ]
     },
     "execution_count": 26,
     "metadata": {},
     "output_type": "execute_result"
    }
   ],
   "source": [
    "X = X.drop(['PBT_to_total_income'], axis=1)\n",
    "cal_vif(X).sort_values(by='VIF',ascending=False)\n",
    "\n",
    "#notice VIF for PAT_to_total_income has declined "
   ]
  },
  {
   "cell_type": "code",
   "execution_count": 27,
   "id": "5f614cdf",
   "metadata": {},
   "outputs": [
    {
     "data": {
      "text/html": [
       "<div>\n",
       "<style scoped>\n",
       "    .dataframe tbody tr th:only-of-type {\n",
       "        vertical-align: middle;\n",
       "    }\n",
       "\n",
       "    .dataframe tbody tr th {\n",
       "        vertical-align: top;\n",
       "    }\n",
       "\n",
       "    .dataframe thead th {\n",
       "        text-align: right;\n",
       "    }\n",
       "</style>\n",
       "<table border=\"1\" class=\"dataframe\">\n",
       "  <thead>\n",
       "    <tr style=\"text-align: right;\">\n",
       "      <th></th>\n",
       "      <th>Variables</th>\n",
       "      <th>VIF</th>\n",
       "    </tr>\n",
       "  </thead>\n",
       "  <tbody>\n",
       "    <tr>\n",
       "      <th>0</th>\n",
       "      <td>Total_assets</td>\n",
       "      <td>5.197439</td>\n",
       "    </tr>\n",
       "    <tr>\n",
       "      <th>1</th>\n",
       "      <td>Total_income</td>\n",
       "      <td>5.139785</td>\n",
       "    </tr>\n",
       "    <tr>\n",
       "      <th>3</th>\n",
       "      <td>PBDITA_to_total_income</td>\n",
       "      <td>3.914149</td>\n",
       "    </tr>\n",
       "    <tr>\n",
       "      <th>2</th>\n",
       "      <td>PAT_to_total_income</td>\n",
       "      <td>2.814014</td>\n",
       "    </tr>\n",
       "    <tr>\n",
       "      <th>4</th>\n",
       "      <td>Current_ratio</td>\n",
       "      <td>1.977934</td>\n",
       "    </tr>\n",
       "    <tr>\n",
       "      <th>5</th>\n",
       "      <td>Debt_to_equity_ratio</td>\n",
       "      <td>1.793156</td>\n",
       "    </tr>\n",
       "  </tbody>\n",
       "</table>\n",
       "</div>"
      ],
      "text/plain": [
       "                Variables       VIF\n",
       "0            Total_assets  5.197439\n",
       "1            Total_income  5.139785\n",
       "3  PBDITA_to_total_income  3.914149\n",
       "2     PAT_to_total_income  2.814014\n",
       "4           Current_ratio  1.977934\n",
       "5    Debt_to_equity_ratio  1.793156"
      ]
     },
     "execution_count": 27,
     "metadata": {},
     "output_type": "execute_result"
    }
   ],
   "source": [
    "X = X.drop(['Cash_profit_to_total_income'], axis=1)\n",
    "cal_vif(X).sort_values(by='VIF',ascending=False)\n"
   ]
  },
  {
   "cell_type": "code",
   "execution_count": 29,
   "id": "eb7a734a",
   "metadata": {},
   "outputs": [
    {
     "data": {
      "text/html": [
       "<div>\n",
       "<style scoped>\n",
       "    .dataframe tbody tr th:only-of-type {\n",
       "        vertical-align: middle;\n",
       "    }\n",
       "\n",
       "    .dataframe tbody tr th {\n",
       "        vertical-align: top;\n",
       "    }\n",
       "\n",
       "    .dataframe thead th {\n",
       "        text-align: right;\n",
       "    }\n",
       "</style>\n",
       "<table border=\"1\" class=\"dataframe\">\n",
       "  <thead>\n",
       "    <tr style=\"text-align: right;\">\n",
       "      <th></th>\n",
       "      <th>Variables</th>\n",
       "      <th>VIF</th>\n",
       "    </tr>\n",
       "  </thead>\n",
       "  <tbody>\n",
       "    <tr>\n",
       "      <th>2</th>\n",
       "      <td>PBDITA_to_total_income</td>\n",
       "      <td>3.664134</td>\n",
       "    </tr>\n",
       "    <tr>\n",
       "      <th>1</th>\n",
       "      <td>PAT_to_total_income</td>\n",
       "      <td>2.758106</td>\n",
       "    </tr>\n",
       "    <tr>\n",
       "      <th>3</th>\n",
       "      <td>Current_ratio</td>\n",
       "      <td>1.955957</td>\n",
       "    </tr>\n",
       "    <tr>\n",
       "      <th>4</th>\n",
       "      <td>Debt_to_equity_ratio</td>\n",
       "      <td>1.757982</td>\n",
       "    </tr>\n",
       "    <tr>\n",
       "      <th>0</th>\n",
       "      <td>Total_income</td>\n",
       "      <td>1.697737</td>\n",
       "    </tr>\n",
       "  </tbody>\n",
       "</table>\n",
       "</div>"
      ],
      "text/plain": [
       "                Variables       VIF\n",
       "2  PBDITA_to_total_income  3.664134\n",
       "1     PAT_to_total_income  2.758106\n",
       "3           Current_ratio  1.955957\n",
       "4    Debt_to_equity_ratio  1.757982\n",
       "0            Total_income  1.697737"
      ]
     },
     "execution_count": 29,
     "metadata": {},
     "output_type": "execute_result"
    }
   ],
   "source": [
    "X = X.drop(['Total_assets'], axis=1)\n",
    "cal_vif(X).sort_values(by='VIF',ascending=False)"
   ]
  },
  {
   "cell_type": "code",
   "execution_count": null,
   "id": "a4193e2a",
   "metadata": {},
   "outputs": [],
   "source": [
    "#building the model through stats model"
   ]
  },
  {
   "cell_type": "code",
   "execution_count": 40,
   "id": "819b6b1a",
   "metadata": {},
   "outputs": [
    {
     "data": {
      "text/plain": [
       "Index(['Total_income', 'PAT_to_total_income', 'PBDITA_to_total_income',\n",
       "       'Current_ratio', 'Debt_to_equity_ratio'],\n",
       "      dtype='object')"
      ]
     },
     "execution_count": 40,
     "metadata": {},
     "output_type": "execute_result"
    }
   ],
   "source": [
    "X.columns"
   ]
  },
  {
   "cell_type": "code",
   "execution_count": 36,
   "id": "75f34115",
   "metadata": {},
   "outputs": [],
   "source": [
    "Y= default['default']"
   ]
  },
  {
   "cell_type": "code",
   "execution_count": 37,
   "id": "51e79c14",
   "metadata": {},
   "outputs": [],
   "source": [
    "X_train,X_test,Y_train,Y_test=train_test_split(X,Y,test_size=0.30,random_state=7)"
   ]
  },
  {
   "cell_type": "code",
   "execution_count": 38,
   "id": "571f26af",
   "metadata": {},
   "outputs": [],
   "source": [
    "default_train = pd.concat([X_train,Y_train], axis=1)\n",
    "default_test = pd.concat([X_test,Y_test], axis=1)"
   ]
  },
  {
   "cell_type": "code",
   "execution_count": 43,
   "id": "705df2dd",
   "metadata": {},
   "outputs": [
    {
     "name": "stdout",
     "output_type": "stream",
     "text": [
      "Optimization terminated successfully.\n",
      "         Current function value: 0.464901\n",
      "         Iterations 6\n"
     ]
    }
   ],
   "source": [
    "model_stats1 = SM.logit(formula='default~Total_income+ PAT_to_total_income + PBDITA_to_total_income +Current_ratio +Debt_to_equity_ratio',data=default_train).fit()"
   ]
  },
  {
   "cell_type": "code",
   "execution_count": 44,
   "id": "74280698",
   "metadata": {},
   "outputs": [
    {
     "data": {
      "text/html": [
       "<table class=\"simpletable\">\n",
       "<caption>Logit Regression Results</caption>\n",
       "<tr>\n",
       "  <th>Dep. Variable:</th>        <td>default</td>     <th>  No. Observations:  </th>  <td>   968</td>  \n",
       "</tr>\n",
       "<tr>\n",
       "  <th>Model:</th>                 <td>Logit</td>      <th>  Df Residuals:      </th>  <td>   962</td>  \n",
       "</tr>\n",
       "<tr>\n",
       "  <th>Method:</th>                 <td>MLE</td>       <th>  Df Model:          </th>  <td>     5</td>  \n",
       "</tr>\n",
       "<tr>\n",
       "  <th>Date:</th>            <td>Wed, 06 Jul 2022</td> <th>  Pseudo R-squ.:     </th>  <td>0.1483</td>  \n",
       "</tr>\n",
       "<tr>\n",
       "  <th>Time:</th>                <td>13:11:03</td>     <th>  Log-Likelihood:    </th> <td> -450.02</td> \n",
       "</tr>\n",
       "<tr>\n",
       "  <th>converged:</th>             <td>True</td>       <th>  LL-Null:           </th> <td> -528.41</td> \n",
       "</tr>\n",
       "<tr>\n",
       "  <th>Covariance Type:</th>     <td>nonrobust</td>    <th>  LLR p-value:       </th> <td>4.813e-32</td>\n",
       "</tr>\n",
       "</table>\n",
       "<table class=\"simpletable\">\n",
       "<tr>\n",
       "             <td></td>               <th>coef</th>     <th>std err</th>      <th>z</th>      <th>P>|z|</th>  <th>[0.025</th>    <th>0.975]</th>  \n",
       "</tr>\n",
       "<tr>\n",
       "  <th>Intercept</th>              <td>   -0.8623</td> <td>    0.220</td> <td>   -3.927</td> <td> 0.000</td> <td>   -1.293</td> <td>   -0.432</td>\n",
       "</tr>\n",
       "<tr>\n",
       "  <th>Total_income</th>           <td>   -0.0021</td> <td>    0.000</td> <td>   -6.189</td> <td> 0.000</td> <td>   -0.003</td> <td>   -0.001</td>\n",
       "</tr>\n",
       "<tr>\n",
       "  <th>PAT_to_total_income</th>    <td>   -0.0447</td> <td>    0.028</td> <td>   -1.598</td> <td> 0.110</td> <td>   -0.100</td> <td>    0.010</td>\n",
       "</tr>\n",
       "<tr>\n",
       "  <th>PBDITA_to_total_income</th> <td>   -0.0268</td> <td>    0.013</td> <td>   -2.104</td> <td> 0.035</td> <td>   -0.052</td> <td>   -0.002</td>\n",
       "</tr>\n",
       "<tr>\n",
       "  <th>Current_ratio</th>          <td>   -0.0647</td> <td>    0.094</td> <td>   -0.687</td> <td> 0.492</td> <td>   -0.249</td> <td>    0.120</td>\n",
       "</tr>\n",
       "<tr>\n",
       "  <th>Debt_to_equity_ratio</th>   <td>    0.3755</td> <td>    0.053</td> <td>    7.064</td> <td> 0.000</td> <td>    0.271</td> <td>    0.480</td>\n",
       "</tr>\n",
       "</table>"
      ],
      "text/plain": [
       "<class 'statsmodels.iolib.summary.Summary'>\n",
       "\"\"\"\n",
       "                           Logit Regression Results                           \n",
       "==============================================================================\n",
       "Dep. Variable:                default   No. Observations:                  968\n",
       "Model:                          Logit   Df Residuals:                      962\n",
       "Method:                           MLE   Df Model:                            5\n",
       "Date:                Wed, 06 Jul 2022   Pseudo R-squ.:                  0.1483\n",
       "Time:                        13:11:03   Log-Likelihood:                -450.02\n",
       "converged:                       True   LL-Null:                       -528.41\n",
       "Covariance Type:            nonrobust   LLR p-value:                 4.813e-32\n",
       "==========================================================================================\n",
       "                             coef    std err          z      P>|z|      [0.025      0.975]\n",
       "------------------------------------------------------------------------------------------\n",
       "Intercept                 -0.8623      0.220     -3.927      0.000      -1.293      -0.432\n",
       "Total_income              -0.0021      0.000     -6.189      0.000      -0.003      -0.001\n",
       "PAT_to_total_income       -0.0447      0.028     -1.598      0.110      -0.100       0.010\n",
       "PBDITA_to_total_income    -0.0268      0.013     -2.104      0.035      -0.052      -0.002\n",
       "Current_ratio             -0.0647      0.094     -0.687      0.492      -0.249       0.120\n",
       "Debt_to_equity_ratio       0.3755      0.053      7.064      0.000       0.271       0.480\n",
       "==========================================================================================\n",
       "\"\"\""
      ]
     },
     "execution_count": 44,
     "metadata": {},
     "output_type": "execute_result"
    }
   ],
   "source": [
    "#summary\n",
    "model_stats1.summary()"
   ]
  },
  {
   "cell_type": "code",
   "execution_count": null,
   "id": "21ad906e",
   "metadata": {},
   "outputs": [],
   "source": [
    "#eliminating variable with high value of p. "
   ]
  },
  {
   "cell_type": "code",
   "execution_count": 45,
   "id": "0da1c6c4",
   "metadata": {},
   "outputs": [
    {
     "name": "stdout",
     "output_type": "stream",
     "text": [
      "Optimization terminated successfully.\n",
      "         Current function value: 0.466192\n",
      "         Iterations 6\n"
     ]
    }
   ],
   "source": [
    "model_stats2 = SM.logit(formula='default~Total_income + PBDITA_to_total_income +Current_ratio +Debt_to_equity_ratio',data=default_train).fit()"
   ]
  },
  {
   "cell_type": "code",
   "execution_count": 47,
   "id": "b0f7f416",
   "metadata": {},
   "outputs": [
    {
     "data": {
      "text/html": [
       "<table class=\"simpletable\">\n",
       "<caption>Logit Regression Results</caption>\n",
       "<tr>\n",
       "  <th>Dep. Variable:</th>        <td>default</td>     <th>  No. Observations:  </th>  <td>   968</td>  \n",
       "</tr>\n",
       "<tr>\n",
       "  <th>Model:</th>                 <td>Logit</td>      <th>  Df Residuals:      </th>  <td>   963</td>  \n",
       "</tr>\n",
       "<tr>\n",
       "  <th>Method:</th>                 <td>MLE</td>       <th>  Df Model:          </th>  <td>     4</td>  \n",
       "</tr>\n",
       "<tr>\n",
       "  <th>Date:</th>            <td>Wed, 06 Jul 2022</td> <th>  Pseudo R-squ.:     </th>  <td>0.1460</td>  \n",
       "</tr>\n",
       "<tr>\n",
       "  <th>Time:</th>                <td>13:13:55</td>     <th>  Log-Likelihood:    </th> <td> -451.27</td> \n",
       "</tr>\n",
       "<tr>\n",
       "  <th>converged:</th>             <td>True</td>       <th>  LL-Null:           </th> <td> -528.41</td> \n",
       "</tr>\n",
       "<tr>\n",
       "  <th>Covariance Type:</th>     <td>nonrobust</td>    <th>  LLR p-value:       </th> <td>2.466e-32</td>\n",
       "</tr>\n",
       "</table>\n",
       "<table class=\"simpletable\">\n",
       "<tr>\n",
       "             <td></td>               <th>coef</th>     <th>std err</th>      <th>z</th>      <th>P>|z|</th>  <th>[0.025</th>    <th>0.975]</th>  \n",
       "</tr>\n",
       "<tr>\n",
       "  <th>Intercept</th>              <td>   -0.7908</td> <td>    0.215</td> <td>   -3.686</td> <td> 0.000</td> <td>   -1.211</td> <td>   -0.370</td>\n",
       "</tr>\n",
       "<tr>\n",
       "  <th>Total_income</th>           <td>   -0.0022</td> <td>    0.000</td> <td>   -6.806</td> <td> 0.000</td> <td>   -0.003</td> <td>   -0.002</td>\n",
       "</tr>\n",
       "<tr>\n",
       "  <th>PBDITA_to_total_income</th> <td>   -0.0420</td> <td>    0.009</td> <td>   -4.774</td> <td> 0.000</td> <td>   -0.059</td> <td>   -0.025</td>\n",
       "</tr>\n",
       "<tr>\n",
       "  <th>Current_ratio</th>          <td>   -0.0668</td> <td>    0.094</td> <td>   -0.710</td> <td> 0.478</td> <td>   -0.251</td> <td>    0.118</td>\n",
       "</tr>\n",
       "<tr>\n",
       "  <th>Debt_to_equity_ratio</th>   <td>    0.3984</td> <td>    0.051</td> <td>    7.772</td> <td> 0.000</td> <td>    0.298</td> <td>    0.499</td>\n",
       "</tr>\n",
       "</table>"
      ],
      "text/plain": [
       "<class 'statsmodels.iolib.summary.Summary'>\n",
       "\"\"\"\n",
       "                           Logit Regression Results                           \n",
       "==============================================================================\n",
       "Dep. Variable:                default   No. Observations:                  968\n",
       "Model:                          Logit   Df Residuals:                      963\n",
       "Method:                           MLE   Df Model:                            4\n",
       "Date:                Wed, 06 Jul 2022   Pseudo R-squ.:                  0.1460\n",
       "Time:                        13:13:55   Log-Likelihood:                -451.27\n",
       "converged:                       True   LL-Null:                       -528.41\n",
       "Covariance Type:            nonrobust   LLR p-value:                 2.466e-32\n",
       "==========================================================================================\n",
       "                             coef    std err          z      P>|z|      [0.025      0.975]\n",
       "------------------------------------------------------------------------------------------\n",
       "Intercept                 -0.7908      0.215     -3.686      0.000      -1.211      -0.370\n",
       "Total_income              -0.0022      0.000     -6.806      0.000      -0.003      -0.002\n",
       "PBDITA_to_total_income    -0.0420      0.009     -4.774      0.000      -0.059      -0.025\n",
       "Current_ratio             -0.0668      0.094     -0.710      0.478      -0.251       0.118\n",
       "Debt_to_equity_ratio       0.3984      0.051      7.772      0.000       0.298       0.499\n",
       "==========================================================================================\n",
       "\"\"\""
      ]
     },
     "execution_count": 47,
     "metadata": {},
     "output_type": "execute_result"
    }
   ],
   "source": [
    "model_stats2.summary()"
   ]
  },
  {
   "cell_type": "code",
   "execution_count": null,
   "id": "340e1bee",
   "metadata": {},
   "outputs": [],
   "source": [
    "#dropping current ratio as it is not significant"
   ]
  },
  {
   "cell_type": "code",
   "execution_count": 49,
   "id": "4fdf9a50",
   "metadata": {},
   "outputs": [
    {
     "name": "stdout",
     "output_type": "stream",
     "text": [
      "Optimization terminated successfully.\n",
      "         Current function value: 0.466454\n",
      "         Iterations 6\n"
     ]
    }
   ],
   "source": [
    "model_stats3 = SM.logit(formula='default~Total_income + PBDITA_to_total_income+Debt_to_equity_ratio',data=default_train).fit()"
   ]
  },
  {
   "cell_type": "code",
   "execution_count": 50,
   "id": "53941778",
   "metadata": {},
   "outputs": [
    {
     "data": {
      "text/html": [
       "<table class=\"simpletable\">\n",
       "<caption>Logit Regression Results</caption>\n",
       "<tr>\n",
       "  <th>Dep. Variable:</th>        <td>default</td>     <th>  No. Observations:  </th>  <td>   968</td>  \n",
       "</tr>\n",
       "<tr>\n",
       "  <th>Model:</th>                 <td>Logit</td>      <th>  Df Residuals:      </th>  <td>   964</td>  \n",
       "</tr>\n",
       "<tr>\n",
       "  <th>Method:</th>                 <td>MLE</td>       <th>  Df Model:          </th>  <td>     3</td>  \n",
       "</tr>\n",
       "<tr>\n",
       "  <th>Date:</th>            <td>Wed, 06 Jul 2022</td> <th>  Pseudo R-squ.:     </th>  <td>0.1455</td>  \n",
       "</tr>\n",
       "<tr>\n",
       "  <th>Time:</th>                <td>13:14:39</td>     <th>  Log-Likelihood:    </th> <td> -451.53</td> \n",
       "</tr>\n",
       "<tr>\n",
       "  <th>converged:</th>             <td>True</td>       <th>  LL-Null:           </th> <td> -528.41</td> \n",
       "</tr>\n",
       "<tr>\n",
       "  <th>Covariance Type:</th>     <td>nonrobust</td>    <th>  LLR p-value:       </th> <td>4.049e-33</td>\n",
       "</tr>\n",
       "</table>\n",
       "<table class=\"simpletable\">\n",
       "<tr>\n",
       "             <td></td>               <th>coef</th>     <th>std err</th>      <th>z</th>      <th>P>|z|</th>  <th>[0.025</th>    <th>0.975]</th>  \n",
       "</tr>\n",
       "<tr>\n",
       "  <th>Intercept</th>              <td>   -0.9032</td> <td>    0.146</td> <td>   -6.181</td> <td> 0.000</td> <td>   -1.190</td> <td>   -0.617</td>\n",
       "</tr>\n",
       "<tr>\n",
       "  <th>Total_income</th>           <td>   -0.0022</td> <td>    0.000</td> <td>   -6.774</td> <td> 0.000</td> <td>   -0.003</td> <td>   -0.002</td>\n",
       "</tr>\n",
       "<tr>\n",
       "  <th>PBDITA_to_total_income</th> <td>   -0.0422</td> <td>    0.009</td> <td>   -4.793</td> <td> 0.000</td> <td>   -0.059</td> <td>   -0.025</td>\n",
       "</tr>\n",
       "<tr>\n",
       "  <th>Debt_to_equity_ratio</th>   <td>    0.4058</td> <td>    0.050</td> <td>    8.076</td> <td> 0.000</td> <td>    0.307</td> <td>    0.504</td>\n",
       "</tr>\n",
       "</table>"
      ],
      "text/plain": [
       "<class 'statsmodels.iolib.summary.Summary'>\n",
       "\"\"\"\n",
       "                           Logit Regression Results                           \n",
       "==============================================================================\n",
       "Dep. Variable:                default   No. Observations:                  968\n",
       "Model:                          Logit   Df Residuals:                      964\n",
       "Method:                           MLE   Df Model:                            3\n",
       "Date:                Wed, 06 Jul 2022   Pseudo R-squ.:                  0.1455\n",
       "Time:                        13:14:39   Log-Likelihood:                -451.53\n",
       "converged:                       True   LL-Null:                       -528.41\n",
       "Covariance Type:            nonrobust   LLR p-value:                 4.049e-33\n",
       "==========================================================================================\n",
       "                             coef    std err          z      P>|z|      [0.025      0.975]\n",
       "------------------------------------------------------------------------------------------\n",
       "Intercept                 -0.9032      0.146     -6.181      0.000      -1.190      -0.617\n",
       "Total_income              -0.0022      0.000     -6.774      0.000      -0.003      -0.002\n",
       "PBDITA_to_total_income    -0.0422      0.009     -4.793      0.000      -0.059      -0.025\n",
       "Debt_to_equity_ratio       0.4058      0.050      8.076      0.000       0.307       0.504\n",
       "==========================================================================================\n",
       "\"\"\""
      ]
     },
     "execution_count": 50,
     "metadata": {},
     "output_type": "execute_result"
    }
   ],
   "source": [
    "model_stats3.summary()"
   ]
  },
  {
   "cell_type": "code",
   "execution_count": null,
   "id": "746d9628",
   "metadata": {},
   "outputs": [],
   "source": [
    "#all of them are significant"
   ]
  },
  {
   "cell_type": "code",
   "execution_count": 52,
   "id": "e0e08758",
   "metadata": {},
   "outputs": [],
   "source": [
    "y_prob_train = model_stats3.predict(default_train)"
   ]
  },
  {
   "cell_type": "code",
   "execution_count": 106,
   "id": "72c1ca87",
   "metadata": {},
   "outputs": [],
   "source": [
    "y_prob_test = model_stats3.predict(default_test)"
   ]
  },
  {
   "cell_type": "code",
   "execution_count": 53,
   "id": "c1b0b609",
   "metadata": {},
   "outputs": [
    {
     "data": {
      "text/plain": [
       "445     0.137342\n",
       "1241    0.174000\n",
       "272     0.486483\n",
       "820     0.132605\n",
       "1249    0.105583\n",
       "          ...   \n",
       "211     0.395660\n",
       "502     0.167361\n",
       "537     0.111130\n",
       "1220    0.098938\n",
       "175     0.399038\n",
       "Length: 968, dtype: float64"
      ]
     },
     "execution_count": 53,
     "metadata": {},
     "output_type": "execute_result"
    }
   ],
   "source": [
    "y_prob_train "
   ]
  },
  {
   "cell_type": "code",
   "execution_count": 55,
   "id": "53fb0149",
   "metadata": {},
   "outputs": [],
   "source": [
    "#converting the prediction to class \n",
    "#higher than 0.50 default otherwise non default\n",
    "y_class_pred = []\n",
    "for i in range (0, len(y_prob_train)):\n",
    "    if np.array(y_prob_train)[i]>0.50:\n",
    "        a=1\n",
    "    else:\n",
    "        a=0\n",
    "    y_class_pred.append(a)"
   ]
  },
  {
   "cell_type": "code",
   "execution_count": 58,
   "id": "9d5aea36",
   "metadata": {},
   "outputs": [
    {
     "data": {
      "text/plain": [
       "[0,\n",
       " 0,\n",
       " 0,\n",
       " 0,\n",
       " 0,\n",
       " 0,\n",
       " 0,\n",
       " 0,\n",
       " 0,\n",
       " 0,\n",
       " 0,\n",
       " 0,\n",
       " 1,\n",
       " 0,\n",
       " 0,\n",
       " 1,\n",
       " 0,\n",
       " 0,\n",
       " 0,\n",
       " 0,\n",
       " 0,\n",
       " 0,\n",
       " 0,\n",
       " 0,\n",
       " 0,\n",
       " 0,\n",
       " 1,\n",
       " 1,\n",
       " 0,\n",
       " 0,\n",
       " 0,\n",
       " 0,\n",
       " 0,\n",
       " 0,\n",
       " 0,\n",
       " 0,\n",
       " 0,\n",
       " 0,\n",
       " 0,\n",
       " 0,\n",
       " 1,\n",
       " 0,\n",
       " 0,\n",
       " 0,\n",
       " 0,\n",
       " 0,\n",
       " 0,\n",
       " 0,\n",
       " 0,\n",
       " 0,\n",
       " 0,\n",
       " 0,\n",
       " 0,\n",
       " 0,\n",
       " 0,\n",
       " 0,\n",
       " 0,\n",
       " 0,\n",
       " 0,\n",
       " 0,\n",
       " 0,\n",
       " 0,\n",
       " 0,\n",
       " 0,\n",
       " 0,\n",
       " 1,\n",
       " 0,\n",
       " 0,\n",
       " 0,\n",
       " 0,\n",
       " 0,\n",
       " 0,\n",
       " 0,\n",
       " 0,\n",
       " 0,\n",
       " 0,\n",
       " 0,\n",
       " 0,\n",
       " 1,\n",
       " 0,\n",
       " 1,\n",
       " 0,\n",
       " 1,\n",
       " 0,\n",
       " 0,\n",
       " 0,\n",
       " 0,\n",
       " 0,\n",
       " 0,\n",
       " 0,\n",
       " 0,\n",
       " 0,\n",
       " 1,\n",
       " 1,\n",
       " 0,\n",
       " 0,\n",
       " 1,\n",
       " 0,\n",
       " 0,\n",
       " 0,\n",
       " 0,\n",
       " 1,\n",
       " 0,\n",
       " 0,\n",
       " 0,\n",
       " 0,\n",
       " 0,\n",
       " 0,\n",
       " 0,\n",
       " 0,\n",
       " 0,\n",
       " 0,\n",
       " 0,\n",
       " 0,\n",
       " 0,\n",
       " 0,\n",
       " 0,\n",
       " 0,\n",
       " 0,\n",
       " 0,\n",
       " 0,\n",
       " 0,\n",
       " 1,\n",
       " 0,\n",
       " 0,\n",
       " 0,\n",
       " 0,\n",
       " 0,\n",
       " 0,\n",
       " 1,\n",
       " 0,\n",
       " 0,\n",
       " 0,\n",
       " 0,\n",
       " 0,\n",
       " 0,\n",
       " 0,\n",
       " 0,\n",
       " 0,\n",
       " 1,\n",
       " 0,\n",
       " 1,\n",
       " 0,\n",
       " 0,\n",
       " 1,\n",
       " 0,\n",
       " 0,\n",
       " 0,\n",
       " 0,\n",
       " 0,\n",
       " 0,\n",
       " 0,\n",
       " 0,\n",
       " 0,\n",
       " 0,\n",
       " 0,\n",
       " 0,\n",
       " 0,\n",
       " 0,\n",
       " 0,\n",
       " 0,\n",
       " 0,\n",
       " 0,\n",
       " 0,\n",
       " 0,\n",
       " 0,\n",
       " 0,\n",
       " 0,\n",
       " 0,\n",
       " 0,\n",
       " 0,\n",
       " 0,\n",
       " 0,\n",
       " 0,\n",
       " 1,\n",
       " 0,\n",
       " 0,\n",
       " 0,\n",
       " 0,\n",
       " 0,\n",
       " 0,\n",
       " 0,\n",
       " 0,\n",
       " 0,\n",
       " 0,\n",
       " 0,\n",
       " 0,\n",
       " 0,\n",
       " 0,\n",
       " 0,\n",
       " 0,\n",
       " 0,\n",
       " 0,\n",
       " 0,\n",
       " 0,\n",
       " 0,\n",
       " 0,\n",
       " 1,\n",
       " 1,\n",
       " 1,\n",
       " 0,\n",
       " 0,\n",
       " 0,\n",
       " 0,\n",
       " 1,\n",
       " 0,\n",
       " 0,\n",
       " 0,\n",
       " 0,\n",
       " 0,\n",
       " 0,\n",
       " 0,\n",
       " 0,\n",
       " 0,\n",
       " 0,\n",
       " 1,\n",
       " 0,\n",
       " 0,\n",
       " 0,\n",
       " 0,\n",
       " 0,\n",
       " 0,\n",
       " 0,\n",
       " 0,\n",
       " 0,\n",
       " 0,\n",
       " 1,\n",
       " 0,\n",
       " 0,\n",
       " 0,\n",
       " 0,\n",
       " 0,\n",
       " 0,\n",
       " 0,\n",
       " 0,\n",
       " 0,\n",
       " 0,\n",
       " 0,\n",
       " 0,\n",
       " 1,\n",
       " 0,\n",
       " 0,\n",
       " 0,\n",
       " 0,\n",
       " 0,\n",
       " 0,\n",
       " 0,\n",
       " 0,\n",
       " 0,\n",
       " 0,\n",
       " 0,\n",
       " 0,\n",
       " 0,\n",
       " 0,\n",
       " 0,\n",
       " 1,\n",
       " 0,\n",
       " 0,\n",
       " 0,\n",
       " 0,\n",
       " 0,\n",
       " 0,\n",
       " 0,\n",
       " 0,\n",
       " 1,\n",
       " 0,\n",
       " 0,\n",
       " 0,\n",
       " 0,\n",
       " 0,\n",
       " 0,\n",
       " 1,\n",
       " 0,\n",
       " 0,\n",
       " 0,\n",
       " 0,\n",
       " 0,\n",
       " 0,\n",
       " 0,\n",
       " 0,\n",
       " 0,\n",
       " 0,\n",
       " 0,\n",
       " 0,\n",
       " 0,\n",
       " 1,\n",
       " 0,\n",
       " 0,\n",
       " 0,\n",
       " 0,\n",
       " 1,\n",
       " 0,\n",
       " 0,\n",
       " 0,\n",
       " 0,\n",
       " 0,\n",
       " 0,\n",
       " 0,\n",
       " 0,\n",
       " 0,\n",
       " 0,\n",
       " 0,\n",
       " 0,\n",
       " 0,\n",
       " 1,\n",
       " 0,\n",
       " 0,\n",
       " 0,\n",
       " 0,\n",
       " 0,\n",
       " 0,\n",
       " 0,\n",
       " 0,\n",
       " 0,\n",
       " 0,\n",
       " 0,\n",
       " 1,\n",
       " 0,\n",
       " 0,\n",
       " 0,\n",
       " 0,\n",
       " 0,\n",
       " 0,\n",
       " 0,\n",
       " 0,\n",
       " 0,\n",
       " 0,\n",
       " 0,\n",
       " 0,\n",
       " 0,\n",
       " 0,\n",
       " 0,\n",
       " 0,\n",
       " 0,\n",
       " 0,\n",
       " 0,\n",
       " 0,\n",
       " 1,\n",
       " 0,\n",
       " 0,\n",
       " 0,\n",
       " 0,\n",
       " 0,\n",
       " 0,\n",
       " 0,\n",
       " 0,\n",
       " 0,\n",
       " 0,\n",
       " 0,\n",
       " 0,\n",
       " 1,\n",
       " 0,\n",
       " 0,\n",
       " 0,\n",
       " 0,\n",
       " 0,\n",
       " 0,\n",
       " 0,\n",
       " 0,\n",
       " 0,\n",
       " 0,\n",
       " 0,\n",
       " 0,\n",
       " 0,\n",
       " 0,\n",
       " 0,\n",
       " 0,\n",
       " 0,\n",
       " 0,\n",
       " 0,\n",
       " 0,\n",
       " 0,\n",
       " 0,\n",
       " 0,\n",
       " 0,\n",
       " 0,\n",
       " 0,\n",
       " 0,\n",
       " 0,\n",
       " 0,\n",
       " 0,\n",
       " 1,\n",
       " 0,\n",
       " 0,\n",
       " 0,\n",
       " 0,\n",
       " 0,\n",
       " 0,\n",
       " 0,\n",
       " 0,\n",
       " 1,\n",
       " 0,\n",
       " 0,\n",
       " 0,\n",
       " 0,\n",
       " 0,\n",
       " 0,\n",
       " 0,\n",
       " 0,\n",
       " 0,\n",
       " 0,\n",
       " 0,\n",
       " 0,\n",
       " 0,\n",
       " 0,\n",
       " 0,\n",
       " 0,\n",
       " 0,\n",
       " 0,\n",
       " 0,\n",
       " 0,\n",
       " 1,\n",
       " 0,\n",
       " 0,\n",
       " 0,\n",
       " 1,\n",
       " 0,\n",
       " 0,\n",
       " 0,\n",
       " 0,\n",
       " 0,\n",
       " 0,\n",
       " 0,\n",
       " 0,\n",
       " 0,\n",
       " 0,\n",
       " 0,\n",
       " 0,\n",
       " 0,\n",
       " 0,\n",
       " 0,\n",
       " 0,\n",
       " 0,\n",
       " 0,\n",
       " 0,\n",
       " 0,\n",
       " 0,\n",
       " 0,\n",
       " 0,\n",
       " 0,\n",
       " 0,\n",
       " 0,\n",
       " 0,\n",
       " 0,\n",
       " 0,\n",
       " 0,\n",
       " 0,\n",
       " 0,\n",
       " 0,\n",
       " 1,\n",
       " 0,\n",
       " 0,\n",
       " 0,\n",
       " 1,\n",
       " 0,\n",
       " 0,\n",
       " 0,\n",
       " 0,\n",
       " 0,\n",
       " 0,\n",
       " 0,\n",
       " 0,\n",
       " 0,\n",
       " 0,\n",
       " 0,\n",
       " 0,\n",
       " 0,\n",
       " 1,\n",
       " 0,\n",
       " 1,\n",
       " 0,\n",
       " 0,\n",
       " 0,\n",
       " 0,\n",
       " 0,\n",
       " 0,\n",
       " 0,\n",
       " 0,\n",
       " 0,\n",
       " 0,\n",
       " 0,\n",
       " 0,\n",
       " 1,\n",
       " 0,\n",
       " 0,\n",
       " 0,\n",
       " 0,\n",
       " 0,\n",
       " 1,\n",
       " 0,\n",
       " 0,\n",
       " 0,\n",
       " 0,\n",
       " 0,\n",
       " 0,\n",
       " 0,\n",
       " 0,\n",
       " 0,\n",
       " 0,\n",
       " 0,\n",
       " 0,\n",
       " 0,\n",
       " 0,\n",
       " 0,\n",
       " 1,\n",
       " 0,\n",
       " 0,\n",
       " 0,\n",
       " 0,\n",
       " 0,\n",
       " 0,\n",
       " 0,\n",
       " 0,\n",
       " 0,\n",
       " 0,\n",
       " 0,\n",
       " 1,\n",
       " 0,\n",
       " 0,\n",
       " 0,\n",
       " 0,\n",
       " 0,\n",
       " 0,\n",
       " 0,\n",
       " 0,\n",
       " 0,\n",
       " 1,\n",
       " 0,\n",
       " 0,\n",
       " 0,\n",
       " 0,\n",
       " 0,\n",
       " 0,\n",
       " 0,\n",
       " 0,\n",
       " 1,\n",
       " 0,\n",
       " 0,\n",
       " 0,\n",
       " 0,\n",
       " 0,\n",
       " 0,\n",
       " 0,\n",
       " 0,\n",
       " 0,\n",
       " 1,\n",
       " 0,\n",
       " 1,\n",
       " 0,\n",
       " 0,\n",
       " 1,\n",
       " 0,\n",
       " 0,\n",
       " 1,\n",
       " 0,\n",
       " 0,\n",
       " 0,\n",
       " 0,\n",
       " 0,\n",
       " 0,\n",
       " 0,\n",
       " 0,\n",
       " 0,\n",
       " 0,\n",
       " 0,\n",
       " 0,\n",
       " 0,\n",
       " 0,\n",
       " 0,\n",
       " 0,\n",
       " 1,\n",
       " 1,\n",
       " 0,\n",
       " 0,\n",
       " 0,\n",
       " 0,\n",
       " 0,\n",
       " 0,\n",
       " 0,\n",
       " 0,\n",
       " 0,\n",
       " 0,\n",
       " 0,\n",
       " 0,\n",
       " 0,\n",
       " 0,\n",
       " 0,\n",
       " 0,\n",
       " 0,\n",
       " 0,\n",
       " 0,\n",
       " 0,\n",
       " 0,\n",
       " 0,\n",
       " 0,\n",
       " 1,\n",
       " 0,\n",
       " 0,\n",
       " 0,\n",
       " 0,\n",
       " 0,\n",
       " 1,\n",
       " 0,\n",
       " 0,\n",
       " 0,\n",
       " 0,\n",
       " 0,\n",
       " 0,\n",
       " 0,\n",
       " 0,\n",
       " 1,\n",
       " 0,\n",
       " 0,\n",
       " 0,\n",
       " 0,\n",
       " 0,\n",
       " 0,\n",
       " 1,\n",
       " 0,\n",
       " 0,\n",
       " 1,\n",
       " 1,\n",
       " 0,\n",
       " 0,\n",
       " 0,\n",
       " 0,\n",
       " 0,\n",
       " 0,\n",
       " 0,\n",
       " 0,\n",
       " 0,\n",
       " 0,\n",
       " 1,\n",
       " 0,\n",
       " 0,\n",
       " 0,\n",
       " 0,\n",
       " 0,\n",
       " 0,\n",
       " 0,\n",
       " 0,\n",
       " 0,\n",
       " 0,\n",
       " 0,\n",
       " 0,\n",
       " 0,\n",
       " 1,\n",
       " 0,\n",
       " 0,\n",
       " 0,\n",
       " 0,\n",
       " 0,\n",
       " 0,\n",
       " 0,\n",
       " 0,\n",
       " 0,\n",
       " 0,\n",
       " 0,\n",
       " 0,\n",
       " 0,\n",
       " 0,\n",
       " 0,\n",
       " 0,\n",
       " 1,\n",
       " 0,\n",
       " 0,\n",
       " 1,\n",
       " 0,\n",
       " 0,\n",
       " 0,\n",
       " 0,\n",
       " 0,\n",
       " 0,\n",
       " 0,\n",
       " 1,\n",
       " 0,\n",
       " 0,\n",
       " 0,\n",
       " 0,\n",
       " 0,\n",
       " 0,\n",
       " 1,\n",
       " 0,\n",
       " 0,\n",
       " 0,\n",
       " 0,\n",
       " 0,\n",
       " 0,\n",
       " 0,\n",
       " 0,\n",
       " 0,\n",
       " 0,\n",
       " 1,\n",
       " 0,\n",
       " 0,\n",
       " 0,\n",
       " 0,\n",
       " 0,\n",
       " 0,\n",
       " 0,\n",
       " 0,\n",
       " 0,\n",
       " 0,\n",
       " 0,\n",
       " 0,\n",
       " 0,\n",
       " 0,\n",
       " 0,\n",
       " 0,\n",
       " 0,\n",
       " 0,\n",
       " 1,\n",
       " 0,\n",
       " 1,\n",
       " 0,\n",
       " 0,\n",
       " 0,\n",
       " 0,\n",
       " 0,\n",
       " 0,\n",
       " 0,\n",
       " 0,\n",
       " 0,\n",
       " 1,\n",
       " 0,\n",
       " 0,\n",
       " 0,\n",
       " 0,\n",
       " 0,\n",
       " 0,\n",
       " 0,\n",
       " 0,\n",
       " 0,\n",
       " 0,\n",
       " 0,\n",
       " 0,\n",
       " 0,\n",
       " 0,\n",
       " 0,\n",
       " 0,\n",
       " 0,\n",
       " 0,\n",
       " 0,\n",
       " 0,\n",
       " 0,\n",
       " 0,\n",
       " 0,\n",
       " 0,\n",
       " 0,\n",
       " 0,\n",
       " 0,\n",
       " 0,\n",
       " 0,\n",
       " 0,\n",
       " 0,\n",
       " 0,\n",
       " 0,\n",
       " 0,\n",
       " 0,\n",
       " 0,\n",
       " 0,\n",
       " 0,\n",
       " 0,\n",
       " 0,\n",
       " 0,\n",
       " 0,\n",
       " 0,\n",
       " 0,\n",
       " 0,\n",
       " 0,\n",
       " 1,\n",
       " 0,\n",
       " 0,\n",
       " 1,\n",
       " 0,\n",
       " 0,\n",
       " 0,\n",
       " 1,\n",
       " 0,\n",
       " 0,\n",
       " 0,\n",
       " 0,\n",
       " 0,\n",
       " 0,\n",
       " 0,\n",
       " 0,\n",
       " 0,\n",
       " 0,\n",
       " 0,\n",
       " 0,\n",
       " 0,\n",
       " 1,\n",
       " 1,\n",
       " 0,\n",
       " 0,\n",
       " 0,\n",
       " 0,\n",
       " 0,\n",
       " 0,\n",
       " 0,\n",
       " 0,\n",
       " 0,\n",
       " 0,\n",
       " 1,\n",
       " 0,\n",
       " 0,\n",
       " 0,\n",
       " 0,\n",
       " 0,\n",
       " 0,\n",
       " 0,\n",
       " 0,\n",
       " 0,\n",
       " 0,\n",
       " 0,\n",
       " 1,\n",
       " 0,\n",
       " 0,\n",
       " 1,\n",
       " 1,\n",
       " 0,\n",
       " 0,\n",
       " 0,\n",
       " 0,\n",
       " 0,\n",
       " 0,\n",
       " 0,\n",
       " 0,\n",
       " 0,\n",
       " 0,\n",
       " 0,\n",
       " 0,\n",
       " 1,\n",
       " 0,\n",
       " 0,\n",
       " 0,\n",
       " 1,\n",
       " 0,\n",
       " 0,\n",
       " 0,\n",
       " 0,\n",
       " 0,\n",
       " 0,\n",
       " 0,\n",
       " 0,\n",
       " 1,\n",
       " 0,\n",
       " 0,\n",
       " 1,\n",
       " 0,\n",
       " 0,\n",
       " 1,\n",
       " 1,\n",
       " 1,\n",
       " 0,\n",
       " 0,\n",
       " 0,\n",
       " 0,\n",
       " 0,\n",
       " 1,\n",
       " 0,\n",
       " 0,\n",
       " 0,\n",
       " 0,\n",
       " 0,\n",
       " 0,\n",
       " 0,\n",
       " 0,\n",
       " 0,\n",
       " 0,\n",
       " 0,\n",
       " 0,\n",
       " 0,\n",
       " 0,\n",
       " 0,\n",
       " 0,\n",
       " 0,\n",
       " 1,\n",
       " 0,\n",
       " 0,\n",
       " 0,\n",
       " 0,\n",
       " 0,\n",
       " 1,\n",
       " 0,\n",
       " 0,\n",
       " 0,\n",
       " 0,\n",
       " 0,\n",
       " 0,\n",
       " 0,\n",
       " 0,\n",
       " 1,\n",
       " 0,\n",
       " 1,\n",
       " 0,\n",
       " 1,\n",
       " 0,\n",
       " 1,\n",
       " 0,\n",
       " 0,\n",
       " 0,\n",
       " 0,\n",
       " 0,\n",
       " 0,\n",
       " 0,\n",
       " 0,\n",
       " 0,\n",
       " 0,\n",
       " 0,\n",
       " 0,\n",
       " 0,\n",
       " 0,\n",
       " 0,\n",
       " 0,\n",
       " 0,\n",
       " 0,\n",
       " 0,\n",
       " 0,\n",
       " 0,\n",
       " 0,\n",
       " 0,\n",
       " 0,\n",
       " 0,\n",
       " 0,\n",
       " 0,\n",
       " 0,\n",
       " 0,\n",
       " 0,\n",
       " 0,\n",
       " 0,\n",
       " 0,\n",
       " 0,\n",
       " 0,\n",
       " 0,\n",
       " 0,\n",
       " 0,\n",
       " 0,\n",
       " 0,\n",
       " 0,\n",
       " 0,\n",
       " 0,\n",
       " 0,\n",
       " 0,\n",
       " 0,\n",
       " 0,\n",
       " 0,\n",
       " 0,\n",
       " 0,\n",
       " 0,\n",
       " 0,\n",
       " 0,\n",
       " 0,\n",
       " 0,\n",
       " 0,\n",
       " 0,\n",
       " 0,\n",
       " 0,\n",
       " 0,\n",
       " 0,\n",
       " 0,\n",
       " 0,\n",
       " 0,\n",
       " 0,\n",
       " 0,\n",
       " 0,\n",
       " 0,\n",
       " 0]"
      ]
     },
     "execution_count": 58,
     "metadata": {},
     "output_type": "execute_result"
    }
   ],
   "source": [
    "#higher than 0.50 default otherwise non default\n",
    "y_class_pred"
   ]
  },
  {
   "cell_type": "code",
   "execution_count": 59,
   "id": "2fc29cd2",
   "metadata": {},
   "outputs": [],
   "source": [
    "from sklearn import metrics"
   ]
  },
  {
   "cell_type": "code",
   "execution_count": 65,
   "id": "7f451222",
   "metadata": {},
   "outputs": [
    {
     "data": {
      "image/png": "[encoded data removed]",
      "text/plain": [
       "<Figure size 432x288 with 2 Axes>"
      ]
     },
     "metadata": {
      "needs_background": "light"
     },
     "output_type": "display_data"
    }
   ],
   "source": [
    "sns.heatmap((metrics.confusion_matrix(default_train['default'],y_class_pred)), annot=True,cmap=\"Blues\", fmt='0');"
   ]
  },
  {
   "cell_type": "code",
   "execution_count": 66,
   "id": "01265630",
   "metadata": {},
   "outputs": [
    {
     "data": {
      "text/plain": [
       "0.9028925619834711"
      ]
     },
     "execution_count": 66,
     "metadata": {},
     "output_type": "execute_result"
    }
   ],
   "source": [
    "(710+164)/(710+164+30+64) #improved accuracy"
   ]
  },
  {
   "cell_type": "code",
   "execution_count": 69,
   "id": "98af7f1a",
   "metadata": {},
   "outputs": [
    {
     "data": {
      "text/plain": [
       "0.6808510638297872"
      ]
     },
     "execution_count": 69,
     "metadata": {},
     "output_type": "execute_result"
    }
   ],
   "source": [
    "64/94 #precision"
   ]
  },
  {
   "cell_type": "code",
   "execution_count": 70,
   "id": "304bbff4",
   "metadata": {},
   "outputs": [
    {
     "data": {
      "text/plain": [
       "0.2807017543859649"
      ]
     },
     "execution_count": 70,
     "metadata": {},
     "output_type": "execute_result"
    }
   ],
   "source": [
    "64/228 #recall still low. It is a important factor here"
   ]
  },
  {
   "cell_type": "code",
   "execution_count": 94,
   "id": "54555834",
   "metadata": {},
   "outputs": [],
   "source": [
    "#Let us now check how good out model is \n",
    "# y_pred=model_stats.predict()\n",
    "# sns.boxplot(x=default['default'], y=y_pred)\n",
    "# plt.xlables(\"Default\")"
   ]
  },
  {
   "cell_type": "code",
   "execution_count": 87,
   "id": "cecd3f9c",
   "metadata": {},
   "outputs": [],
   "source": [
    "from sklearn.metrics import roc_curve\n",
    "fpr, tpr, threshold = roc_curve(default_train['default'],y_prob_train)"
   ]
  },
  {
   "cell_type": "code",
   "execution_count": 98,
   "id": "b85370b0",
   "metadata": {},
   "outputs": [
    {
     "data": {
      "text/plain": [
       "0.2570940356833269"
      ]
     },
     "execution_count": 98,
     "metadata": {},
     "output_type": "execute_result"
    }
   ],
   "source": [
    "optimal_idx= np.argmax(tpr-fpr)\n",
    "optimal_threshold= threshold[optimal_idx]\n",
    "optimal_threshold"
   ]
  },
  {
   "cell_type": "code",
   "execution_count": 99,
   "id": "525d060c",
   "metadata": {},
   "outputs": [],
   "source": [
    "#converting the prediction to class \n",
    "#higher than 0.26 default otherwise non default\n",
    "y_class_pred= []\n",
    "for i in range (0, len(y_prob_train)):\n",
    "    if np.array(y_prob_train)[i]>0.26:\n",
    "        a=1\n",
    "    else:\n",
    "        a=0\n",
    "    y_class_pred.append(a)"
   ]
  },
  {
   "cell_type": "code",
   "execution_count": 100,
   "id": "cb4096b7",
   "metadata": {},
   "outputs": [
    {
     "data": {
      "image/png": "[encoded data removed]",
      "text/plain": [
       "<Figure size 432x288 with 2 Axes>"
      ]
     },
     "metadata": {
      "needs_background": "light"
     },
     "output_type": "display_data"
    }
   ],
   "source": [
    "sns.heatmap((metrics.confusion_matrix(default_train['default'],y_class_pred)), annot=True,cmap=\"Blues\", fmt='0');"
   ]
  },
  {
   "cell_type": "code",
   "execution_count": 111,
   "id": "4e2b6814",
   "metadata": {},
   "outputs": [
    {
     "name": "stdout",
     "output_type": "stream",
     "text": [
      "recall of the model 0.6491228070175439\n",
      "precision of the model 0.46394984326018807\n"
     ]
    }
   ],
   "source": [
    "#recall\n",
    "print('recall of the model {}'.format(148/228))\n",
    "#precision\n",
    "print('precision of the model {}'.format(148/(148+171)))"
   ]
  },
  {
   "cell_type": "code",
   "execution_count": 104,
   "id": "2a305b6a",
   "metadata": {},
   "outputs": [
    {
     "data": {
      "text/plain": [
       "0.7407024793388429"
      ]
     },
     "execution_count": 104,
     "metadata": {},
     "output_type": "execute_result"
    }
   ],
   "source": [
    "(569+148)/(569+171+80+148) #improved accuracy"
   ]
  },
  {
   "cell_type": "code",
   "execution_count": 107,
   "id": "2c3be017",
   "metadata": {},
   "outputs": [],
   "source": [
    "y_class_pred_test= []\n",
    "for i in range (0, len(y_prob_test)):\n",
    "    if np.array(y_prob_test)[i]>0.26:\n",
    "        a=1\n",
    "    else:\n",
    "        a=0\n",
    "    y_class_pred_test.append(a)"
   ]
  },
  {
   "cell_type": "code",
   "execution_count": 108,
   "id": "16a8729c",
   "metadata": {},
   "outputs": [
    {
     "data": {
      "image/png": "[encoded data removed]",
      "text/plain": [
       "<Figure size 432x288 with 2 Axes>"
      ]
     },
     "metadata": {
      "needs_background": "light"
     },
     "output_type": "display_data"
    }
   ],
   "source": [
    "sns.heatmap((metrics.confusion_matrix(default_test['default'],y_class_pred_test)), annot=True,cmap=\"Blues\", fmt='0');"
   ]
  },
  {
   "cell_type": "code",
   "execution_count": 110,
   "id": "86436ba5",
   "metadata": {},
   "outputs": [
    {
     "name": "stdout",
     "output_type": "stream",
     "text": [
      "              precision    recall  f1-score   support\n",
      "\n",
      "           0       0.87      0.72      0.78       320\n",
      "           1       0.40      0.64      0.49        96\n",
      "\n",
      "    accuracy                           0.70       416\n",
      "   macro avg       0.63      0.68      0.64       416\n",
      "weighted avg       0.76      0.70      0.72       416\n",
      "\n"
     ]
    }
   ],
   "source": [
    "print(metrics.classification_report(default_test['default'],y_class_pred_test))\n",
    "\n",
    "#precision gone down \n",
    "#recall is 0.64 which is not very outstanding"
   ]
  },
  {
   "cell_type": "markdown",
   "id": "7321944c",
   "metadata": {},
   "source": [
    "Through Logistic Regression model, We could only obtain recall as 0.16 though the overall acuracy of the model was 79 percent much higher than the stats model we built after treating outliers and multicollinearity.\n",
    "\n",
    "Considering the stats model that we built using the threshold value as 0.26, We observe though the model is not a best model, However, We have a high recall value here with not much compromising accuracy as 70 percent. \n",
    "\n",
    "Note: Recall is more important metric than any other in the case of default."
   ]
  }
 ],
 "metadata": {
  "kernelspec": {
   "display_name": "Python 3",
   "language": "python",
   "name": "python3"
  },
  "language_info": {
   "codemirror_mode": {
    "name": "ipython",
    "version": 3
   },
   "file_extension": ".py",
   "mimetype": "text/x-python",
   "name": "python",
   "nbconvert_exporter": "python",
   "pygments_lexer": "ipython3",
   "version": "3.8.8"
  }
 },
 "nbformat": 4,
 "nbformat_minor": 5
}
